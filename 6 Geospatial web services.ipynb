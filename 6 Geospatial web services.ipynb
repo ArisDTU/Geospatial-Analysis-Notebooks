{
 "cells": [
  {
   "cell_type": "markdown",
   "metadata": {},
   "source": [
    "# Day 3: Geospatial web services"
   ]
  },
  {
   "cell_type": "markdown",
   "metadata": {},
   "source": [
    "# Part 1: how to retrieve geographical data "
   ]
  },
  {
   "cell_type": "markdown",
   "metadata": {},
   "source": [
    "**we are going to retrieve geographical data from a popular platform called OpenStreetMap**"
   ]
  },
  {
   "cell_type": "markdown",
   "metadata": {},
   "source": [
    "Required modules for this session:::: osmnx, folium, matplotlib"
   ]
  },
  {
   "cell_type": "code",
   "execution_count": null,
   "metadata": {},
   "outputs": [],
   "source": [
    "# import neccesary modules\n",
    "# osmnx is easy to use for downloading OpenStreetMap data\n",
    "import osmnx as ox\n",
    "import matplotlib.pyplot as plt\n",
    "%matplotlib inline\n",
    "\n",
    "# Specify the name that is used to seach for the data\n",
    "place_adr = \"Christianshavn, Copenhagen, Denmark\"\n",
    "\n",
    "# Fetch OSM street network from the address\n",
    "graph = ox.graph_from_address(place_adr, distance=1000)\n",
    "type(graph)\n"
   ]
  },
  {
   "cell_type": "code",
   "execution_count": null,
   "metadata": {
    "scrolled": false
   },
   "outputs": [],
   "source": [
    "# Plot the streets\n",
    "fig, ax = ox.plot_graph(graph)"
   ]
  },
  {
   "cell_type": "code",
   "execution_count": null,
   "metadata": {},
   "outputs": [],
   "source": [
    "# Retrieve the footprint of the address\n",
    "area = ox.gdf_from_place(place_adr)\n",
    "\n",
    "# Retrieve buildings from the area\n",
    "buildings = ox.footprints_from_address(place_adr, distance=1000)\n",
    "\n",
    "ox.footprints_from_address(place_adr, distance=1000)\n",
    "\n",
    "\n",
    "# What types are those?\n",
    "print(type(area))\n",
    "print(type(buildings))"
   ]
  },
  {
   "cell_type": "code",
   "execution_count": null,
   "metadata": {},
   "outputs": [],
   "source": [
    "fig, ax = ox.plot_footprints(buildings)"
   ]
  },
  {
   "cell_type": "markdown",
   "metadata": {},
   "source": [
    "Let’s also retrieve restaurants that are located on the area:"
   ]
  },
  {
   "cell_type": "code",
   "execution_count": null,
   "metadata": {},
   "outputs": [],
   "source": [
    "# Retrieve restaurants\n",
    "restaurants = ox.pois_from_address(place_adr, amenities=['restaurant'], distance= 1000)\n",
    "\n",
    "# How many restaurants do we have?\n",
    "len(restaurants)\n"
   ]
  },
  {
   "cell_type": "markdown",
   "metadata": {},
   "source": [
    "Let’s explore what kind of attributes we have in our restaurants GeoDataFrame"
   ]
  },
  {
   "cell_type": "code",
   "execution_count": null,
   "metadata": {},
   "outputs": [],
   "source": [
    "# Available columns\n",
    "restaurants.columns"
   ]
  },
  {
   "cell_type": "code",
   "execution_count": null,
   "metadata": {},
   "outputs": [],
   "source": [
    "buildings.columns"
   ]
  },
  {
   "cell_type": "code",
   "execution_count": null,
   "metadata": {},
   "outputs": [],
   "source": [
    "# Select some useful cols and print\n",
    "cols = ['alt_name', 'cuisine', 'opening_hours', 'outdoor_seating',\n",
    "        'phone', 'wheelchair', 'geometry']\n",
    "# Print only selected cols\n",
    "restaurants[cols].head(12)"
   ]
  },
  {
   "cell_type": "markdown",
   "metadata": {},
   "source": [
    "We can now plot all these different OSM layers by using the familiar plot() function of Geopandas. As you might remember, the street network data was not in GeoDataFrame format (it was networkx.MultiDiGraph). Luckily, osmnx provides a convenient function graph_to_gdfs() that can convert the graph into two separate GeoDataFrames where the first one contains the information about the nodes and the second one about the edge.\n",
    "\n"
   ]
  },
  {
   "cell_type": "markdown",
   "metadata": {},
   "source": [
    "**Let’s extract the nodes and edges from the graph as GeoDataFrames:**\n"
   ]
  },
  {
   "cell_type": "code",
   "execution_count": null,
   "metadata": {},
   "outputs": [],
   "source": [
    "# Retrieve nodes and edges\n",
    "nodes, edges = ox.graph_to_gdfs(graph)\n",
    "print(\"Nodes:\\n\", nodes.head(), '\\n')\n",
    "print(\"Edges:\\n\", edges.head(), '\\n')\n",
    "print(\"Type:\", type(edges))"
   ]
  },
  {
   "cell_type": "markdown",
   "metadata": {},
   "source": [
    "Let’s create a map out of the streets, buildings, restaurants, and the area Polygon but let’s exclude the nodes (to keep the figure clearer)."
   ]
  },
  {
   "cell_type": "code",
   "execution_count": null,
   "metadata": {
    "scrolled": false
   },
   "outputs": [],
   "source": [
    "# Plot the footprint \n",
    "\n",
    "ax = area.plot(facecolor='white')\n",
    "\n",
    "# Plot streets\n",
    "edges.plot(ax=ax, linewidth=1, edgecolor=None)\n",
    "\n",
    "# Plot buildings\n",
    "buildings.plot(ax=ax, facecolor='black', alpha=0.7)\n",
    "\n",
    "# Plot restaurants\n",
    "restaurants.plot(ax=ax, color='red', alpha=0.7, markersize=10)\n",
    "plt.tight_layout()\n",
    "\n",
    "outfp = \"map.pdf\"\n",
    "plt.savefig(outfp, dpi=300)"
   ]
  },
  {
   "cell_type": "markdown",
   "metadata": {},
   "source": [
    "# Part 2: how to make interactive maps"
   ]
  },
  {
   "cell_type": "code",
   "execution_count": null,
   "metadata": {},
   "outputs": [],
   "source": [
    "import folium\n",
    "\n",
    "# Create a Map instance\n",
    "m = folium.Map(location=[55.67, 12.57],\n",
    "    zoom_start=14, control_scale=True)\n",
    "m"
   ]
  },
  {
   "cell_type": "markdown",
   "metadata": {},
   "source": [
    "**Let's check Folium's help**"
   ]
  },
  {
   "cell_type": "code",
   "execution_count": null,
   "metadata": {},
   "outputs": [],
   "source": [
    "help(folium.Map)"
   ]
  },
  {
   "cell_type": "code",
   "execution_count": null,
   "metadata": {
    "scrolled": false
   },
   "outputs": [],
   "source": [
    "import folium\n",
    "\n",
    "# Create a Map instance and this time add more attributes\n",
    "m = folium.Map(location=[55.67, 12.57], width='80%', height='80%', left='10%', top='0%', tiles=\"Mapbox Bright\", zoom_start=8, control_scale=True)\n",
    "m"
   ]
  },
  {
   "cell_type": "code",
   "execution_count": null,
   "metadata": {},
   "outputs": [],
   "source": [
    "# let’s export it to html file on your local driver\n",
    "\n",
    "outfp = \"base_map.html\"\n",
    "m.save(outfp)\n"
   ]
  },
  {
   "cell_type": "markdown",
   "metadata": {},
   "source": [
    "Navigate to the file and open it with a text editor and check the script behind. Let’s modify a few things."
   ]
  },
  {
   "cell_type": "markdown",
   "metadata": {},
   "source": [
    "**Let's make one more map with AAU in the center**"
   ]
  },
  {
   "cell_type": "code",
   "execution_count": null,
   "metadata": {},
   "outputs": [],
   "source": [
    "import folium\n",
    "\n",
    "# Create a Map instance and this time add more attributes\n",
    "m = folium.Map(location=[55.66, 12.57], width='100%', height='100%', left='0%', top='0%', tiles='Stamen Toner', zoom_start=15, control_scale=True, prefer_canvas=True)\n",
    "m"
   ]
  },
  {
   "cell_type": "code",
   "execution_count": null,
   "metadata": {},
   "outputs": [],
   "source": [
    "# Let’s add a simple marker to the webmap.\n",
    "\n",
    "#Create a Map instance\n",
    "m = folium.Map(location=[55.6505, 12.5429],\n",
    "    zoom_start=16, control_scale=True)\n",
    "\n",
    "# Add marker\n",
    "# Run: help(folium.Icon) for more info about icons\n",
    "folium.Marker(\n",
    "    location=[55.6505, 12.5429],\n",
    "    popup='Aalborg University',\n",
    "    icon=folium.Icon(color='red', icon='info-sign'),\n",
    ").add_to(m)\n",
    "\n",
    "#Show map\n",
    "m\n"
   ]
  },
  {
   "cell_type": "code",
   "execution_count": null,
   "metadata": {},
   "outputs": [],
   "source": [
    "help(folium.Marker)"
   ]
  },
  {
   "cell_type": "markdown",
   "metadata": {},
   "source": [
    "Let's go to a mountainous area and enjoy a nice terrain map"
   ]
  },
  {
   "cell_type": "code",
   "execution_count": null,
   "metadata": {},
   "outputs": [],
   "source": [
    "# Let's go to a mountainous area and enjoy a nice terrain map\n",
    "m = folium.Map(location=[45.372, -121.6972], zoom_start=11, tiles='Stamen Terrain')\n",
    "\n",
    "tooltip = 'Hit me!'\n",
    "\n",
    "folium.Marker([45.3288, -121.6625], popup='<i>Mt. Hood Meadows</i>', tooltip=tooltip).add_to(m)\n",
    "folium.Marker([45.3311, -121.7113], popup='<b>Timberline Lodge</b>', tooltip=tooltip).add_to(m)\n",
    "folium.Marker([45.3231, -121.7143], popup='<i>Base camp</i>', tooltip=tooltip).add_to(m)\n",
    "folium.Marker([45.3341, -121.7233], popup='<b>Jumping spot</b>', tooltip=tooltip).add_to(m)\n",
    "\n",
    "m"
   ]
  },
  {
   "cell_type": "code",
   "execution_count": null,
   "metadata": {},
   "outputs": [],
   "source": [
    "help(folium.Marker)"
   ]
  },
  {
   "cell_type": "code",
   "execution_count": null,
   "metadata": {},
   "outputs": [],
   "source": [
    "\n",
    "m = folium.Map(\n",
    "    location=[55.6505, 12.5429],\n",
    "    tiles='Stamen Toner',\n",
    "    zoom_start=13\n",
    ")\n",
    "\n",
    "# the red one \n",
    "folium.Circle(\n",
    "    radius=100,\n",
    "    location=[55.6505, 12.5429],\n",
    "    popup='AAU',\n",
    "    color='crimson',\n",
    "    fill=True,\n",
    ").add_to(m)\n",
    "\n",
    "# the blue one\n",
    "folium.CircleMarker(\n",
    "    location=[55.6505, 12.5429],\n",
    "    radius=500,\n",
    "    popup='Area sorrounding AAU',\n",
    "    color='#3186cc',\n",
    "    fill=False,\n",
    "    fill_color='#3186cc'\n",
    ").add_to(m)\n",
    "\n",
    "# link to a color brewer for chosing color  http://colorbrewer2.org/# \n",
    "\n",
    "# a function to enable lat/lng pop-overs:\n",
    "m.add_child(folium.LatLngPopup())\n",
    "\n",
    "#x= m.add_child(folium.ClickForMarker(popup='Waypoint'))\n",
    "\n",
    "m"
   ]
  },
  {
   "cell_type": "code",
   "execution_count": null,
   "metadata": {},
   "outputs": [],
   "source": [
    "# Convert restaurants points to GeoJson\n",
    "res_gjson = folium.features.GeoJson(restaurants, name = \"Restaurants\")\n"
   ]
  },
  {
   "cell_type": "code",
   "execution_count": null,
   "metadata": {},
   "outputs": [],
   "source": [
    "# Create a Map instance\n",
    "m = folium.Map(location=[55.6716, 12.5970], tiles = 'Stamen Toner', zoom_start=14, control_scale=True)\n",
    "\n",
    "# Add points to the map instance\n",
    "res_gjson.add_to(m)\n",
    "\n",
    "# Alternative syntax for adding points to the map instance\n",
    "#m.add_child(res_gjson)\n",
    "\n",
    "#Show map\n",
    "m"
   ]
  },
  {
   "cell_type": "code",
   "execution_count": null,
   "metadata": {},
   "outputs": [],
   "source": []
  }
 ],
 "metadata": {
  "kernelspec": {
   "display_name": "Python 3",
   "language": "python",
   "name": "python3"
  },
  "language_info": {
   "codemirror_mode": {
    "name": "ipython",
    "version": 3
   },
   "file_extension": ".py",
   "mimetype": "text/x-python",
   "name": "python",
   "nbconvert_exporter": "python",
   "pygments_lexer": "ipython3",
   "version": "3.7.3"
  }
 },
 "nbformat": 4,
 "nbformat_minor": 2
}
