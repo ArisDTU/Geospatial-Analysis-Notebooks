{
 "cells": [
  {
   "cell_type": "markdown",
   "metadata": {},
   "source": [
    "Import a couple of libraries we are going to use:"
   ]
  },
  {
   "cell_type": "code",
   "execution_count": 1,
   "metadata": {},
   "outputs": [],
   "source": [
    "import rasterio\n",
    "import bokeh\n",
    "import urllib.request\n",
    "import zipfile\n",
    "import os"
   ]
  },
  {
   "cell_type": "markdown",
   "metadata": {},
   "source": [
    "Download and a multi-layer GeoTIFF, but **only** if it hasn't been downloaded and unzipped before:"
   ]
  },
  {
   "cell_type": "code",
   "execution_count": 2,
   "metadata": {},
   "outputs": [
    {
     "name": "stdout",
     "output_type": "stream",
     "text": [
      "Africa.tif already downloaded and unzipped.\n"
     ]
    }
   ],
   "source": [
    "if os.path.isfile('Africa.tif'):\n",
    "    print(\"Africa.tif already downloaded and unzipped.\")\n",
    "else:\n",
    "    urllib.request.urlretrieve(\"https://carsten.io/Africa.zip\", \"Africa.zip\")\n",
    "    zf = zipfile.ZipFile(\"Africa.zip\")\n",
    "    zf.extractall()\n",
    "    os.remove(\"Africa.zip\") # clean up\n",
    "    print(\"Download and unzip complete.\")"
   ]
  },
  {
   "cell_type": "markdown",
   "metadata": {},
   "source": [
    "Let's open the file with rasterio:"
   ]
  },
  {
   "cell_type": "code",
   "execution_count": 3,
   "metadata": {},
   "outputs": [],
   "source": [
    "africa_tif = rasterio.open('Africa.tif')"
   ]
  },
  {
   "cell_type": "markdown",
   "metadata": {},
   "source": [
    "Print some information about the dataset:"
   ]
  },
  {
   "cell_type": "code",
   "execution_count": null,
   "metadata": {},
   "outputs": [],
   "source": [
    "print(\"The file is called\", africa_tif.name)\n",
    "print()\n",
    "print(\"It is\", africa_tif.width, \"x\",africa_tif.height,\"pixels big\")\n",
    "print()\n",
    "print(\"It covers the following extent:\",africa_tif.bounds)\n",
    "print()\n",
    "print(\"It is in the following CRS:\",africa_tif.crs)"
   ]
  },
  {
   "cell_type": "markdown",
   "metadata": {},
   "source": [
    "How many layers are there in this GeoTIFF, and what data types do they use?"
   ]
  },
  {
   "cell_type": "code",
   "execution_count": null,
   "metadata": {},
   "outputs": [],
   "source": [
    "{i: dtype for i, dtype in zip(africa_tif.indexes, africa_tif.dtypes)}"
   ]
  },
  {
   "cell_type": "markdown",
   "metadata": {},
   "source": [
    "Let's take a look at the layers:"
   ]
  },
  {
   "cell_type": "code",
   "execution_count": null,
   "metadata": {},
   "outputs": [],
   "source": [
    "import matplotlib as mlp\n",
    "from rasterio.plot import show\n",
    "import matplotlib.pyplot as plt\n",
    "%matplotlib inline "
   ]
  },
  {
   "cell_type": "code",
   "execution_count": null,
   "metadata": {},
   "outputs": [],
   "source": [
    "plt.figure(figsize=(14, 14))\n",
    "show((africa_tif, 1), title='Countries', cmap='prism')"
   ]
  },
  {
   "cell_type": "code",
   "execution_count": null,
   "metadata": {},
   "outputs": [],
   "source": [
    "plt.figure(figsize=(14, 14))\n",
    "show((africa_tif, 3), title='Urban Areas', cmap='Greys')\n"
   ]
  },
  {
   "cell_type": "code",
   "execution_count": null,
   "metadata": {},
   "outputs": [],
   "source": [
    "plt.figure(figsize=(14, 14))\n",
    "show((africa_tif, 2), title='Population')"
   ]
  },
  {
   "cell_type": "markdown",
   "metadata": {},
   "source": [
    "Not great, let's try to improve this:"
   ]
  },
  {
   "cell_type": "code",
   "execution_count": null,
   "metadata": {},
   "outputs": [],
   "source": [
    "from matplotlib.colors import LogNorm\n",
    "\n",
    "plt.figure(figsize=(14, 14))\n",
    "show((africa_tif, 2), title='Population', norm=LogNorm(), cmap='hot_r')"
   ]
  },
  {
   "cell_type": "markdown",
   "metadata": {},
   "source": [
    "Can we add a legend?"
   ]
  },
  {
   "cell_type": "code",
   "execution_count": 4,
   "metadata": {},
   "outputs": [],
   "source": [
    "pop = africa_tif.read(2)"
   ]
  },
  {
   "cell_type": "code",
   "execution_count": null,
   "metadata": {},
   "outputs": [],
   "source": [
    "plt.figure(figsize=(14, 14))\n",
    "\n",
    "imgplot = plt.imshow(pop, norm=LogNorm(), cmap='hot_r')\n",
    "plt.colorbar()"
   ]
  },
  {
   "cell_type": "markdown",
   "metadata": {},
   "source": [
    "Alternative: Interactive plots with Bokeh:"
   ]
  },
  {
   "cell_type": "code",
   "execution_count": 5,
   "metadata": {},
   "outputs": [],
   "source": [
    "import numpy as np\n",
    "import bokeh.plotting as bkplt"
   ]
  },
  {
   "cell_type": "code",
   "execution_count": 6,
   "metadata": {},
   "outputs": [],
   "source": [
    "p = bkplt.figure(x_range=(0, pop.shape[0]), y_range=(0, pop.shape[1]))\n",
    "\n",
    "# must give a vector of image data for image parameter\n",
    "p.image(image=[pop], x=0, y=0, dw=pop.shape[0], dh=pop.shape[1], palette=\"Spectral11\")\n",
    "\n",
    "bkplt.show(p)"
   ]
  },
  {
   "cell_type": "markdown",
   "metadata": {},
   "source": [
    "Bokeh can also make web maps:"
   ]
  },
  {
   "cell_type": "code",
   "execution_count": 8,
   "metadata": {},
   "outputs": [
    {
     "name": "stderr",
     "output_type": "stream",
     "text": [
      "BokehDeprecationWarning: CARTODBPOSITRON was deprecated in Bokeh 1.1.0 and will be removed, use get_provider(Vendors.CARTODBPOSITRON) instead.\n"
     ]
    }
   ],
   "source": [
    "from bokeh.tile_providers import CARTODBPOSITRON\n",
    "\n",
    "# range bounds supplied in web mercator coordinates\n",
    "p = bkplt.figure(x_range=(-2000000, 6000000), y_range=(-1000000, 7000000),\n",
    "           x_axis_type=\"mercator\", y_axis_type=\"mercator\")\n",
    "p.add_tile(CARTODBPOSITRON)\n",
    "\n",
    "bkplt.show(p)"
   ]
  },
  {
   "cell_type": "markdown",
   "metadata": {},
   "source": [
    "# Compression"
   ]
  },
  {
   "cell_type": "code",
   "execution_count": 42,
   "metadata": {},
   "outputs": [],
   "source": [
    "def compress(inputfile, outputfile, layer, compression, datatype):\n",
    "    \n",
    "    with rasterio.Env():\n",
    "\n",
    "        # Write an array as a raster band to a new 8-bit file. For\n",
    "        # the new file's profile, we start with the profile of the source\n",
    "        profile = inputfile.profile\n",
    "\n",
    "        # And then change the band count to 1, set the\n",
    "        # dtype to uint8, and specify LZW compression.\n",
    "        profile.update(\n",
    "            dtype=datatype,\n",
    "            count=1,\n",
    "            compress=compression)\n",
    "\n",
    "        with rasterio.open(outputfile, 'w', **profile) as dst:\n",
    "            dst.write(layer.astype(datatype), 1)"
   ]
  },
  {
   "cell_type": "code",
   "execution_count": null,
   "metadata": {},
   "outputs": [],
   "source": [
    "compress(africa_tif, 'pop-float.tif',     pop, None, rasterio.float32)\n",
    "compress(africa_tif, 'pop-float-lzw.tif', pop, 'lzw', rasterio.float32)\n",
    "compress(africa_tif, 'pop-int-lzw.tif',   pop, 'lzw', rasterio.int32)"
   ]
  },
  {
   "cell_type": "markdown",
   "metadata": {},
   "source": [
    "Let's do the urban layer to test int8:"
   ]
  },
  {
   "cell_type": "code",
   "execution_count": 43,
   "metadata": {},
   "outputs": [],
   "source": [
    "urban = africa_tif.read(3)\n",
    "compress(africa_tif, 'urban-int-lzw.tif', urban, 'lzw', rasterio.int8)"
   ]
  },
  {
   "cell_type": "markdown",
   "metadata": {},
   "source": [
    "# Map Algebra"
   ]
  },
  {
   "cell_type": "code",
   "execution_count": 9,
   "metadata": {},
   "outputs": [],
   "source": [
    "import seaborn as sns     \n",
    "from scipy import signal  # for the focal function\n",
    "from skimage import graph # can do least cost"
   ]
  },
  {
   "cell_type": "markdown",
   "metadata": {},
   "source": [
    "Let's define two layers, let's say one is ground elevation, the other one is the height of vegeation above ground:\n"
   ]
  },
  {
   "cell_type": "code",
   "execution_count": 10,
   "metadata": {},
   "outputs": [],
   "source": [
    "elevation = np.array([ [ 1, 1, 3, 4, 4, 2],\n",
    "                       [ 1, 3, 4, 4, 2, 1],\n",
    "                       [ 1, 2, 2, 3, 2, 0],\n",
    "                       [ 1, 1, 2, 4, 0, 0]])\n",
    "\n",
    "building = np.array([ [0, 1, 1, 1, 1, 2],\n",
    "                       [ 1, 1, 1, 1, 1, 1],\n",
    "                       [ 0, 1, 2, 3, 4, 0],\n",
    "                       [ 0, 1, 0, 1, 0, 0]])"
   ]
  },
  {
   "cell_type": "code",
   "execution_count": 11,
   "metadata": {},
   "outputs": [
    {
     "data": {
      "image/png": "[encoded data removed]",
      "text/plain": [
       "<Figure size 432x288 with 1 Axes>"
      ]
     },
     "metadata": {},
     "output_type": "display_data"
    }
   ],
   "source": [
    "fig = sns.heatmap(elevation, \n",
    "                  annot=True, square=True, xticklabels=False, yticklabels=False, \n",
    "                  cmap=\"YlGnBu\", cbar=False, vmin=0, vmax=6).set_title('Ground elevation above sealevel')"
   ]
  },
  {
   "cell_type": "code",
   "execution_count": 12,
   "metadata": {},
   "outputs": [
    {
     "data": {
      "image/png": "[encoded data removed]",
      "text/plain": [
       "<Figure size 432x288 with 1 Axes>"
      ]
     },
     "metadata": {},
     "output_type": "display_data"
    }
   ],
   "source": [
    "fig = sns.heatmap(building, \n",
    "                  annot=True, square=True, xticklabels=False, yticklabels=False, \n",
    "                  cbar=False, cmap=\"YlGnBu\", vmin=0, vmax=6).set_title('Building height above ground')"
   ]
  },
  {
   "cell_type": "markdown",
   "metadata": {},
   "source": [
    "### 1. Local operation: Calculate building height above sea level"
   ]
  },
  {
   "cell_type": "code",
   "execution_count": 13,
   "metadata": {},
   "outputs": [
    {
     "data": {
      "image/png": "[encoded data removed]",
      "text/plain": [
       "<Figure size 432x288 with 1 Axes>"
      ]
     },
     "metadata": {},
     "output_type": "display_data"
    }
   ],
   "source": [
    "building_above_sealevel = elevation + building\n",
    "\n",
    "fig = sns.heatmap(building_above_sealevel, \n",
    "                  annot=True, square=True, xticklabels=False, yticklabels=False, \n",
    "                  cbar=False, cmap=\"YlGnBu\").set_title('Building height above sealevel')"
   ]
  },
  {
   "cell_type": "markdown",
   "metadata": {},
   "source": [
    "### 2. Focal operation: Fix errors in elevation raster\n",
    "\n",
    "Let's assume our elevation raster has a measurement error, e.g. because a bird flew under the LiDAR, so one pixel has  a too high value:"
   ]
  },
  {
   "cell_type": "code",
   "execution_count": 14,
   "metadata": {},
   "outputs": [
    {
     "data": {
      "image/png": "[encoded data removed]",
      "text/plain": [
       "<Figure size 432x288 with 1 Axes>"
      ]
     },
     "metadata": {},
     "output_type": "display_data"
    }
   ],
   "source": [
    "broken_elevation = elevation\n",
    "broken_elevation[2,3] = 10\n",
    "\n",
    "fig = sns.heatmap(broken_elevation, annot=True, square=True, xticklabels=False, yticklabels=False, \n",
    "                  cbar=False, cmap=\"YlGnBu\").set_title('Broken ground elevation above sealevel')"
   ]
  },
  {
   "cell_type": "markdown",
   "metadata": {},
   "source": [
    "We'll fix this by running a 3x3 window over it that sets every pixel to the average of it's 8 neighbors:"
   ]
  },
  {
   "cell_type": "code",
   "execution_count": 15,
   "metadata": {},
   "outputs": [
    {
     "data": {
      "image/png": "[encoded data removed]",
      "text/plain": [
       "<Figure size 432x288 with 1 Axes>"
      ]
     },
     "metadata": {},
     "output_type": "display_data"
    }
   ],
   "source": [
    "window = np.array([ [ 1/8., 1/8., 1/8.,],\n",
    "                    [ 1/8., 0, 1/8.,],\n",
    "                    [ 1/8., 1/8., 1/8.,],])\n",
    "\n",
    "fig = sns.heatmap(window, annot=True, square=True, xticklabels=False, yticklabels=False, \n",
    "                  cbar=False, cmap=\"YlGnBu\").set_title('Window weights')"
   ]
  },
  {
   "cell_type": "code",
   "execution_count": 16,
   "metadata": {},
   "outputs": [
    {
     "data": {
      "image/png": "[encoded data removed]",
      "text/plain": [
       "<Figure size 432x288 with 1 Axes>"
      ]
     },
     "metadata": {},
     "output_type": "display_data"
    }
   ],
   "source": [
    "fixed_elevation = signal.convolve(broken_elevation, window, mode=\"same\") # \"moving window\" function\n",
    "\n",
    "fig = sns.heatmap(fixed_elevation, annot=True, square=True, xticklabels=False, yticklabels=False, \n",
    "                  cbar=False, cmap=\"YlGnBu\", vmin=0, vmax=6).set_title('Fixed ground elevation above sealevel')"
   ]
  },
  {
   "cell_type": "markdown",
   "metadata": {},
   "source": [
    "Note that functions like this one always affect **all cells** (not just the \"broken\" one) and have **edge effects**!\n",
    "\n",
    "## 3. Zonal operation: Average vegetation height per zone\n",
    "\n",
    "Let's define two zones and calculate the average vegetation height per zone:"
   ]
  },
  {
   "cell_type": "code",
   "execution_count": 17,
   "metadata": {},
   "outputs": [
    {
     "data": {
      "image/png": "[encoded data removed]",
      "text/plain": [
       "<Figure size 432x288 with 1 Axes>"
      ]
     },
     "metadata": {},
     "output_type": "display_data"
    }
   ],
   "source": [
    "zones = np.array([ [0, 0, 1, 1, 1, 1],\n",
    "                   [0, 1, 1, 1, 1, 1],\n",
    "                   [0, 1, 1, 0, 0, 0],\n",
    "                   [0, 1, 1, 1, 0, 0]])\n",
    "\n",
    "fig = sns.heatmap(zones, square=True, xticklabels=False, yticklabels=False, cbar=False).set_title('Zones')"
   ]
  },
  {
   "cell_type": "code",
   "execution_count": 18,
   "metadata": {},
   "outputs": [
    {
     "data": {
      "image/png": "[encoded data removed]",
      "text/plain": [
       "<Figure size 432x288 with 1 Axes>"
      ]
     },
     "metadata": {},
     "output_type": "display_data"
    }
   ],
   "source": [
    "avg_veg_height = np.copy(zones).astype(float)\n",
    "\n",
    "for zone in np.unique(zones):\n",
    "    avg_veg_height[zones == zone] = np.mean(building[zones == zone])\n",
    "    \n",
    "fig = sns.heatmap(avg_veg_height, annot=True, cmap=\"YlGnBu\", square=True, xticklabels=False, yticklabels=False, \n",
    "                  cbar=False).set_title('Average building height per zone')"
   ]
  },
  {
   "cell_type": "markdown",
   "metadata": {},
   "source": [
    "## 4. Global operation: Cost distance\n",
    "\n",
    "We'll use or elevation layer as a cost surface and calculate the cost to travel to each cell from a given start cell."
   ]
  },
  {
   "cell_type": "code",
   "execution_count": 19,
   "metadata": {},
   "outputs": [
    {
     "data": {
      "image/png": "[encoded data removed]",
      "text/plain": [
       "<Figure size 432x288 with 1 Axes>"
      ]
     },
     "metadata": {},
     "output_type": "display_data"
    }
   ],
   "source": [
    "# turn our elevation into a cost surface\n",
    "cellSize = 10\n",
    "lg = graph.MCP_Geometric(elevation, sampling=(cellSize, cellSize))\n",
    "\n",
    "# Calculate the least-cost distance from the start cell to all other cells\n",
    "lcd = lg.find_costs(starts=[(1, 3)])[0]\n",
    "fig = sns.heatmap(lcd, annot=True, square=True, xticklabels=False, yticklabels=False, \n",
    "                  cbar=False, cmap=\"YlGnBu\").set_title('Least cost distance to travel to cell at [1,3]')"
   ]
  },
  {
   "cell_type": "markdown",
   "metadata": {},
   "source": [
    "Calculate an example path, here from the top left pixel to our source, using [route_through_array](http://scikit-image.org/docs/0.7.0/api/skimage.graph.mcp.html#route-through-array)"
   ]
  },
  {
   "cell_type": "code",
   "execution_count": 20,
   "metadata": {},
   "outputs": [],
   "source": [
    "from skimage.graph import route_through_array"
   ]
  },
  {
   "cell_type": "code",
   "execution_count": 21,
   "metadata": {},
   "outputs": [
    {
     "data": {
      "text/plain": [
       "([(0, 1), (0, 2), (1, 3)], 6.949747468305833)"
      ]
     },
     "execution_count": 21,
     "metadata": {},
     "output_type": "execute_result"
    }
   ],
   "source": [
    "route_through_array(elevation, [0, 1], [1, 3])"
   ]
  },
  {
   "cell_type": "markdown",
   "metadata": {},
   "source": [
    "# Numpy"
   ]
  },
  {
   "cell_type": "code",
   "execution_count": 22,
   "metadata": {},
   "outputs": [
    {
     "data": {
      "text/plain": [
       "array([[0, 0, 0, ..., 0, 0, 0],\n",
       "       [0, 0, 0, ..., 0, 0, 0],\n",
       "       [0, 0, 0, ..., 0, 0, 0],\n",
       "       ...,\n",
       "       [0, 0, 0, ..., 0, 0, 0],\n",
       "       [0, 0, 0, ..., 0, 0, 0],\n",
       "       [0, 0, 0, ..., 0, 0, 0]], dtype=int16)"
      ]
     },
     "execution_count": 22,
     "metadata": {},
     "output_type": "execute_result"
    }
   ],
   "source": [
    "pop"
   ]
  },
  {
   "cell_type": "code",
   "execution_count": 29,
   "metadata": {},
   "outputs": [
    {
     "data": {
      "text/plain": [
       "107877571"
      ]
     },
     "execution_count": 29,
     "metadata": {},
     "output_type": "execute_result"
    }
   ],
   "source": [
    "pop.size"
   ]
  },
  {
   "cell_type": "code",
   "execution_count": 23,
   "metadata": {},
   "outputs": [
    {
     "data": {
      "text/plain": [
       "(10117, 10663)"
      ]
     },
     "execution_count": 23,
     "metadata": {},
     "output_type": "execute_result"
    }
   ],
   "source": [
    "pop.shape"
   ]
  },
  {
   "cell_type": "code",
   "execution_count": 30,
   "metadata": {},
   "outputs": [
    {
     "data": {
      "text/plain": [
       "array([1258, 1284, 1265, ..., 3198, 2527, 1315], dtype=int16)"
      ]
     },
     "execution_count": 30,
     "metadata": {},
     "output_type": "execute_result"
    }
   ],
   "source": [
    "pop[pop > 1000]"
   ]
  },
  {
   "cell_type": "code",
   "execution_count": 49,
   "metadata": {},
   "outputs": [],
   "source": [
    "countries = africa_tif.read(1)"
   ]
  },
  {
   "cell_type": "code",
   "execution_count": 50,
   "metadata": {},
   "outputs": [
    {
     "data": {
      "text/plain": [
       "array([[False, False, False, ..., False, False, False],\n",
       "       [False, False, False, ..., False, False, False],\n",
       "       [False, False, False, ..., False, False, False],\n",
       "       ...,\n",
       "       [False, False, False, ..., False, False, False],\n",
       "       [False, False, False, ..., False, False, False],\n",
       "       [False, False, False, ..., False, False, False]])"
      ]
     },
     "execution_count": 50,
     "metadata": {},
     "output_type": "execute_result"
    }
   ],
   "source": [
    "egypt = countries == 818 # = Egypt\n",
    "egypt"
   ]
  },
  {
   "cell_type": "markdown",
   "metadata": {},
   "source": [
    "Combining layers!"
   ]
  },
  {
   "cell_type": "code",
   "execution_count": 51,
   "metadata": {},
   "outputs": [
    {
     "data": {
      "text/plain": [
       "81662875"
      ]
     },
     "execution_count": 51,
     "metadata": {},
     "output_type": "execute_result"
    }
   ],
   "source": [
    "np.sum(pop[egypt]) # what is happening here?"
   ]
  },
  {
   "cell_type": "markdown",
   "metadata": {},
   "source": [
    "Wait, what? Let's fix that:"
   ]
  },
  {
   "cell_type": "code",
   "execution_count": 52,
   "metadata": {},
   "outputs": [],
   "source": [
    "pop[pop < 0] = 0 "
   ]
  },
  {
   "cell_type": "code",
   "execution_count": 53,
   "metadata": {},
   "outputs": [
    {
     "data": {
      "text/plain": [
       "'81,662,875'"
      ]
     },
     "execution_count": 53,
     "metadata": {},
     "output_type": "execute_result"
    }
   ],
   "source": [
    "popegypt = np.sum(pop[egypt]) \n",
    "\"{:,}\".format(popegypt)"
   ]
  },
  {
   "cell_type": "markdown",
   "metadata": {},
   "source": [
    "Identify the urban and rural cells in Egypt:"
   ]
  },
  {
   "cell_type": "code",
   "execution_count": 54,
   "metadata": {},
   "outputs": [],
   "source": [
    "cities = urban == 2\n",
    "rural  = urban == 1"
   ]
  },
  {
   "cell_type": "markdown",
   "metadata": {},
   "source": [
    "Now we can count them to calculate the number of urban and rural cells in Egypt (or any other country) in 2010:"
   ]
  },
  {
   "cell_type": "code",
   "execution_count": 56,
   "metadata": {},
   "outputs": [],
   "source": [
    "urbanEgypt = np.all((egypt, cities), axis=0)\n",
    "ruralEgypt = np.all((egypt, rural), axis=0)"
   ]
  },
  {
   "cell_type": "markdown",
   "metadata": {},
   "source": [
    "When applied to boolean arrays, [np.sum](https://docs.scipy.org/doc/numpy-1.14.0/reference/generated/numpy.sum.html) treats ```True``` like 1 and ```False``` like 0:"
   ]
  },
  {
   "cell_type": "code",
   "execution_count": 58,
   "metadata": {},
   "outputs": [
    {
     "name": "stdout",
     "output_type": "stream",
     "text": [
      "Urban cells in Egypt: 33,689\n",
      "Rural cells in Egypt: 1,267,349\n"
     ]
    }
   ],
   "source": [
    "print(\"Urban cells in Egypt:\",\"{:,}\".format(np.sum(urbanEgypt)))\n",
    "print(\"Rural cells in Egypt:\",\"{:,}\".format(np.sum(ruralEgypt)))"
   ]
  },
  {
   "cell_type": "markdown",
   "metadata": {},
   "source": [
    "## Can we calculate the urban area from this?\n",
    "\n",
    "Let's take a look [here](https://bl.ocks.org/atanumallick/8d18989cd538c72ae1ead1c3b18d7b54) and [here](https://bl.ocks.org/syntagmatic/ba569633d51ebec6ec6e)"
   ]
  },
  {
   "cell_type": "code",
   "execution_count": null,
   "metadata": {},
   "outputs": [],
   "source": []
  }
 ],
 "metadata": {
  "kernelspec": {
   "display_name": "Python 3",
   "language": "python",
   "name": "python3"
  },
  "language_info": {
   "codemirror_mode": {
    "name": "ipython",
    "version": 3
   },
   "file_extension": ".py",
   "mimetype": "text/x-python",
   "name": "python",
   "nbconvert_exporter": "python",
   "pygments_lexer": "ipython3",
   "version": "3.7.3"
  }
 },
 "nbformat": 4,
 "nbformat_minor": 2
}
