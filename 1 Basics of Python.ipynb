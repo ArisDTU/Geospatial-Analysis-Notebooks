{
 "cells": [
  {
   "attachments": {},
   "cell_type": "markdown",
   "metadata": {},
   "source": [
    "# This is a notebook for session 1: Introduction to Python\n",
    "\n",
    "### Your first code in Python: You are going to print a text with a single line of code.\n",
    "\n",
    "#### Print is a very useful syntax.\n",
    "#### Notice: Python is Case sensitive, so print is different from Print."
   ]
  },
  {
   "cell_type": "code",
   "execution_count": 16,
   "metadata": {},
   "outputs": [
    {
     "name": "stdout",
     "output_type": "stream",
     "text": [
      "I am excited to learn Python within this course.\n",
      "hooray!!!.\n"
     ]
    }
   ],
   "source": [
    "print (\"I am excited to learn Python within this course.\")\n",
    "print (\"hooray!!!\")"
   ]
  },
  {
   "cell_type": "markdown",
   "metadata": {},
   "source": [
    "# Variable"
   ]
  },
  {
   "cell_type": "code",
   "execution_count": 3,
   "metadata": {},
   "outputs": [
    {
     "name": "stdout",
     "output_type": "stream",
     "text": [
      "2\n"
     ]
    }
   ],
   "source": [
    "# define a variable called x with a value of 2\n",
    "x = 2\n",
    "\n",
    "# print x variable\n",
    "print (x)"
   ]
  },
  {
   "cell_type": "markdown",
   "metadata": {},
   "source": [
    "You can move values across different variables"
   ]
  },
  {
   "cell_type": "code",
   "execution_count": 5,
   "metadata": {},
   "outputs": [
    {
     "name": "stdout",
     "output_type": "stream",
     "text": [
      "var_a is 1\n",
      "b is 1\n"
     ]
    }
   ],
   "source": [
    "# our new variable var_a holds a number\n",
    "\n",
    "var_a = 1\n",
    "print (\"var_a is\", var_a)\n",
    "\n",
    "b = var_a\n",
    "print (\"b is\",b)\n",
    "\n",
    "#what is stored in b?"
   ]
  },
  {
   "cell_type": "markdown",
   "metadata": {},
   "source": [
    "### Data types"
   ]
  },
  {
   "cell_type": "code",
   "execution_count": 15,
   "metadata": {},
   "outputs": [
    {
     "name": "stdout",
     "output_type": "stream",
     "text": [
      "2 is integer\n",
      "2.3 is float\n",
      "Jamal is string\n",
      "False is boolean\n",
      "[1, 2, 3, 'a', 'b', 'c'] is a list\n",
      "(1, 2, 3, 'a', 'b', 'c') is a tuple\n"
     ]
    }
   ],
   "source": [
    "# m is an interger variable\n",
    "m = 2\n",
    "print (m , \"is integer\")\n",
    "\n",
    "# n is a float variable\n",
    "n = 2.3\n",
    "print (n , \"is float\")\n",
    "\n",
    "# t is a string variable\n",
    "t = \"Jamal\"\n",
    "print (t , \"is string\")\n",
    "\n",
    "# b is a boolean variable\n",
    "b = 2 > 3\n",
    "print (b , \"is boolean\")\n",
    "\n",
    "# a_list is a list\n",
    "a_list = [1, 2, 3, 'a', 'b', 'c']\n",
    "print (a_list, \"is a list\")\n",
    "\n",
    "# b_tuple is a list\n",
    "b_tuple = (1, 2, 3, 'a', 'b', 'c')\n",
    "print (b_tuple, \"is a tuple\")"
   ]
  },
  {
   "cell_type": "code",
   "execution_count": 19,
   "metadata": {},
   "outputs": [
    {
     "name": "stdout",
     "output_type": "stream",
     "text": [
      "The first item in a_list is 1\n"
     ]
    }
   ],
   "source": [
    "print (\"The first item in a_list is\", a_list[0])"
   ]
  },
  {
   "attachments": {},
   "cell_type": "markdown",
   "metadata": {},
   "source": [
    "## Do not use keywords of Python"
   ]
  },
  {
   "cell_type": "code",
   "execution_count": 20,
   "metadata": {},
   "outputs": [
    {
     "data": {
      "text/plain": [
       "['False',\n",
       " 'None',\n",
       " 'True',\n",
       " 'and',\n",
       " 'as',\n",
       " 'assert',\n",
       " 'async',\n",
       " 'await',\n",
       " 'break',\n",
       " 'class',\n",
       " 'continue',\n",
       " 'def',\n",
       " 'del',\n",
       " 'elif',\n",
       " 'else',\n",
       " 'except',\n",
       " 'finally',\n",
       " 'for',\n",
       " 'from',\n",
       " 'global',\n",
       " 'if',\n",
       " 'import',\n",
       " 'in',\n",
       " 'is',\n",
       " 'lambda',\n",
       " 'nonlocal',\n",
       " 'not',\n",
       " 'or',\n",
       " 'pass',\n",
       " 'raise',\n",
       " 'return',\n",
       " 'try',\n",
       " 'while',\n",
       " 'with',\n",
       " 'yield']"
      ]
     },
     "execution_count": 20,
     "metadata": {},
     "output_type": "execute_result"
    }
   ],
   "source": [
    "import keyword\n",
    "keyword.kwlist"
   ]
  },
  {
   "attachments": {},
   "cell_type": "markdown",
   "metadata": {},
   "source": [
    "Quiz: Write a code to calculate area of a rectangle!!"
   ]
  },
  {
   "cell_type": "code",
   "execution_count": 25,
   "metadata": {},
   "outputs": [
    {
     "name": "stdout",
     "output_type": "stream",
     "text": [
      "The area is 6\n"
     ]
    }
   ],
   "source": [
    "#define two variables for the two sides of rectangle \n",
    "a_side = 2\n",
    "b_side = 3\n",
    "\n",
    "# multiple them by \"*\"\n",
    "area = a_side * b_side \n",
    "\n",
    "#print the result\n",
    "print (\"The area is\" , area)"
   ]
  },
  {
   "cell_type": "markdown",
   "metadata": {},
   "source": [
    "## Strings"
   ]
  },
  {
   "cell_type": "markdown",
   "metadata": {},
   "source": [
    "explore what you can do with strings"
   ]
  },
  {
   "cell_type": "code",
   "execution_count": 36,
   "metadata": {},
   "outputs": [
    {
     "name": "stdout",
     "output_type": "stream",
     "text": [
      "Hello\n",
      "abcd765\n",
      "Hello Jamal\n",
      "HelloHelloHello\n",
      "5\n",
      "53\n"
     ]
    }
   ],
   "source": [
    "#Strings:\n",
    "a=\"Hello\"\n",
    "print (a)\n",
    "\n",
    "b=\"abcd765\"\n",
    "print (b)\n",
    "\n",
    "c=\"Hello\" + \" \" + \"Jamal\"\n",
    "print (c)\n",
    "\n",
    "d=\"Hello\" * 3 \n",
    "print (d)\n",
    "\n",
    "e=len(a)\n",
    "print (e)\n",
    "\n",
    "f=\"5\"+\"3\"\n",
    "print (f)"
   ]
  },
  {
   "cell_type": "code",
   "execution_count": 47,
   "metadata": {},
   "outputs": [
    {
     "name": "stdout",
     "output_type": "stream",
     "text": [
      "file extension is .shp\n",
      "file name is street_cph_buffer\n"
     ]
    }
   ],
   "source": [
    "a= \"street_cph_buffer.shp\"\n",
    "print (\"file extension is\", a[-4:])\n",
    "print (\"file name is\", a[0:-4])"
   ]
  },
  {
   "cell_type": "markdown",
   "metadata": {},
   "source": [
    "## Operators"
   ]
  },
  {
   "cell_type": "markdown",
   "metadata": {},
   "source": [
    "Comparison operators"
   ]
  },
  {
   "cell_type": "code",
   "execution_count": 50,
   "metadata": {},
   "outputs": [
    {
     "data": {
      "text/plain": [
       "True"
      ]
     },
     "execution_count": 50,
     "metadata": {},
     "output_type": "execute_result"
    }
   ],
   "source": [
    "5 < 7 # < less than"
   ]
  },
  {
   "cell_type": "code",
   "execution_count": 51,
   "metadata": {},
   "outputs": [
    {
     "data": {
      "text/plain": [
       "False"
      ]
     },
     "execution_count": 51,
     "metadata": {},
     "output_type": "execute_result"
    }
   ],
   "source": [
    "5 > 6 #> greater than"
   ]
  },
  {
   "cell_type": "code",
   "execution_count": 52,
   "metadata": {},
   "outputs": [
    {
     "data": {
      "text/plain": [
       "True"
      ]
     },
     "execution_count": 52,
     "metadata": {},
     "output_type": "execute_result"
    }
   ],
   "source": [
    "6 == 6  #== equal"
   ]
  },
  {
   "cell_type": "code",
   "execution_count": 53,
   "metadata": {},
   "outputs": [
    {
     "data": {
      "text/plain": [
       "True"
      ]
     },
     "execution_count": 53,
     "metadata": {},
     "output_type": "execute_result"
    }
   ],
   "source": [
    "3 != 4 #!= not equal"
   ]
  },
  {
   "cell_type": "code",
   "execution_count": 54,
   "metadata": {},
   "outputs": [
    {
     "data": {
      "text/plain": [
       "True"
      ]
     },
     "execution_count": 54,
     "metadata": {},
     "output_type": "execute_result"
    }
   ],
   "source": [
    "1 >= 0.5 #>= greater than or equal"
   ]
  },
  {
   "cell_type": "code",
   "execution_count": 55,
   "metadata": {},
   "outputs": [
    {
     "data": {
      "text/plain": [
       "False"
      ]
     },
     "execution_count": 55,
     "metadata": {},
     "output_type": "execute_result"
    }
   ],
   "source": [
    "1 <= 0.6 #<= less than or equal"
   ]
  },
  {
   "cell_type": "markdown",
   "metadata": {},
   "source": [
    "## How to write a Python function"
   ]
  },
  {
   "cell_type": "code",
   "execution_count": 57,
   "metadata": {},
   "outputs": [],
   "source": [
    "def my_function(): \n",
    "    print (\"My function is great\")"
   ]
  },
  {
   "cell_type": "code",
   "execution_count": 59,
   "metadata": {},
   "outputs": [
    {
     "name": "stdout",
     "output_type": "stream",
     "text": [
      "My function runs\n"
     ]
    }
   ],
   "source": [
    "my_function()"
   ]
  },
  {
   "cell_type": "code",
   "execution_count": 60,
   "metadata": {},
   "outputs": [],
   "source": [
    "def sum_two_numbers(a, b): \n",
    "    return a + b"
   ]
  },
  {
   "cell_type": "code",
   "execution_count": 61,
   "metadata": {},
   "outputs": [
    {
     "data": {
      "text/plain": [
       "9"
      ]
     },
     "execution_count": 61,
     "metadata": {},
     "output_type": "execute_result"
    }
   ],
   "source": [
    "sum_two_numbers(4, 5)"
   ]
  },
  {
   "cell_type": "markdown",
   "metadata": {},
   "source": [
    "## What is \"methods\"?"
   ]
  },
  {
   "cell_type": "code",
   "execution_count": 67,
   "metadata": {},
   "outputs": [
    {
     "name": "stdout",
     "output_type": "stream",
     "text": [
      "THIS IS MY TEXT\n",
      "This is my text\n"
     ]
    }
   ],
   "source": [
    "mytext  = \"this is my text\"\n",
    "newtext = mytext.upper()\n",
    "captext = mytext.capitalize()\n",
    "print (newtext)\n",
    "print (captext)"
   ]
  },
  {
   "cell_type": "markdown",
   "metadata": {},
   "source": [
    "## Control flows"
   ]
  },
  {
   "cell_type": "markdown",
   "metadata": {},
   "source": [
    "#### Conditional statements: a few samples"
   ]
  },
  {
   "cell_type": "code",
   "execution_count": 68,
   "metadata": {},
   "outputs": [
    {
     "name": "stdout",
     "output_type": "stream",
     "text": [
      "x is positive\n"
     ]
    }
   ],
   "source": [
    "x=2 #change this value and see the results\n",
    "if x>=0:\n",
    "    print ('x is positive')\n",
    "else:\n",
    "    print ('x is negative')"
   ]
  },
  {
   "cell_type": "code",
   "execution_count": 72,
   "metadata": {},
   "outputs": [
    {
     "name": "stdout",
     "output_type": "stream",
     "text": [
      "x is between 10..19\n"
     ]
    }
   ],
   "source": [
    "x= -5\n",
    "if x>0 and x<10:\n",
    "    print (\"x is between 1..9\")\n",
    "elif x<20:\n",
    "    print (\"x is between 10..19\")\n",
    "elif x<=0:\n",
    "    print (\"x is less or equal than 0\")\n",
    "else:\n",
    "    print (\"x is greater or equal than 20\")"
   ]
  },
  {
   "cell_type": "code",
   "execution_count": 75,
   "metadata": {},
   "outputs": [
    {
     "name": "stdout",
     "output_type": "stream",
     "text": [
      "x is in list\n",
      "x is 1\n"
     ]
    }
   ],
   "source": [
    "x = 1\n",
    "if x in [1,2,3]:\n",
    "    print ('x is in list')\n",
    "    if x == 1:\n",
    "        print ('x is 1')"
   ]
  },
  {
   "cell_type": "markdown",
   "metadata": {},
   "source": [
    "#### Loops: a few samples"
   ]
  },
  {
   "cell_type": "code",
   "execution_count": 76,
   "metadata": {},
   "outputs": [
    {
     "name": "stdout",
     "output_type": "stream",
     "text": [
      "2\n",
      "3\n",
      "5\n",
      "7\n"
     ]
    }
   ],
   "source": [
    "primes = [2,3,5,7] \n",
    "for prime in primes: \n",
    "    print (prime)\n"
   ]
  },
  {
   "cell_type": "code",
   "execution_count": 77,
   "metadata": {},
   "outputs": [
    {
     "name": "stdout",
     "output_type": "stream",
     "text": [
      "1\n",
      "2\n",
      "3\n",
      "4\n",
      "5\n",
      "6\n",
      "7\n",
      "8\n",
      "9\n"
     ]
    }
   ],
   "source": [
    "for i in range(1,10):\n",
    "    print (i)\n"
   ]
  },
  {
   "cell_type": "code",
   "execution_count": 78,
   "metadata": {},
   "outputs": [
    {
     "name": "stdout",
     "output_type": "stream",
     "text": [
      "0\n",
      "1\n",
      "2\n",
      "3\n",
      "4\n"
     ]
    }
   ],
   "source": [
    "count = 0 \n",
    "while count < 5: \n",
    "    print (count) \n",
    "    count = count + 1"
   ]
  },
  {
   "cell_type": "code",
   "execution_count": 79,
   "metadata": {},
   "outputs": [
    {
     "name": "stdout",
     "output_type": "stream",
     "text": [
      "0\n",
      "1\n",
      "2\n",
      "3\n",
      "4\n",
      "5\n"
     ]
    }
   ],
   "source": [
    "x = 0\n",
    "while 1:\n",
    "    print (x) #stops loop\n",
    "    if x == 5:\n",
    "        break\n",
    "    x += 1\n"
   ]
  },
  {
   "cell_type": "code",
   "execution_count": 81,
   "metadata": {},
   "outputs": [],
   "source": [
    "x = 0\n",
    "if x == 0:\n",
    "    pass       #do nothing\n",
    "else:\n",
    "    print (\"x is not zero\")"
   ]
  },
  {
   "cell_type": "code",
   "execution_count": 83,
   "metadata": {},
   "outputs": [
    {
     "name": "stdout",
     "output_type": "stream",
     "text": [
      "x is 0\n",
      "x is 1\n",
      "x is 2\n",
      "x is 3\n",
      "x is 4\n",
      "x is 5\n"
     ]
    }
   ],
   "source": [
    "x = 0\n",
    "while 1:\n",
    "    print (\"x is\", x)\n",
    "    if x == 5:\n",
    "        break #stops loop\n",
    "    x += 1 #same as x = x+1\n",
    "#code after loop\n"
   ]
  },
  {
   "cell_type": "code",
   "execution_count": 84,
   "metadata": {},
   "outputs": [
    {
     "name": "stdout",
     "output_type": "stream",
     "text": [
      "x is  zero\n"
     ]
    }
   ],
   "source": [
    "x = 0\n",
    "if x == 0:\n",
    "    pass #do nothing\n",
    "    print ('x is  zero')\n",
    "\n",
    "else:\n",
    "    print ('x is not zero')"
   ]
  },
  {
   "cell_type": "code",
   "execution_count": 86,
   "metadata": {},
   "outputs": [
    {
     "name": "stdout",
     "output_type": "stream",
     "text": [
      "0  is even\n",
      "1  is odd\n",
      "2  is even\n",
      "3  is odd\n",
      "4  is even\n",
      "5  is odd\n",
      "6  is even\n",
      "7  is odd\n",
      "8  is even\n",
      "9  is odd\n",
      "10  is even\n",
      "11  is odd\n",
      "12  is even\n",
      "13  is odd\n",
      "14  is even\n",
      "15  is odd\n",
      "16  is even\n",
      "17  is odd\n",
      "18  is even\n",
      "19  is odd\n",
      "20  is even\n",
      "21  is odd\n",
      "22  is even\n",
      "23  is odd\n",
      "24  is even\n",
      "25  is odd\n",
      "26  is even\n",
      "27  is odd\n",
      "28  is even\n",
      "29  is odd\n",
      "30  is even\n",
      "31  is odd\n",
      "32  is even\n",
      "33  is odd\n",
      "34  is even\n",
      "35  is odd\n",
      "36  is even\n",
      "37  is odd\n",
      "38  is even\n",
      "39  is odd\n",
      "40  is even\n",
      "41  is odd\n",
      "42  is even\n",
      "43  is odd\n",
      "44  is even\n",
      "45  is odd\n",
      "46  is even\n",
      "47  is odd\n",
      "48  is even\n",
      "49  is odd\n",
      "50  is even\n",
      "51  is odd\n",
      "52  is even\n",
      "53  is odd\n",
      "54  is even\n",
      "55  is odd\n",
      "56  is even\n",
      "57  is odd\n",
      "58  is even\n",
      "59  is odd\n",
      "60  is even\n",
      "61  is odd\n",
      "62  is even\n",
      "63  is odd\n",
      "64  is even\n",
      "65  is odd\n",
      "66  is even\n",
      "67  is odd\n",
      "68  is even\n",
      "69  is odd\n",
      "70  is even\n",
      "71  is odd\n",
      "72  is even\n",
      "73  is odd\n",
      "74  is even\n",
      "75  is odd\n",
      "76  is even\n",
      "77  is odd\n",
      "78  is even\n",
      "79  is odd\n",
      "80  is even\n",
      "81  is odd\n",
      "82  is even\n",
      "83  is odd\n",
      "84  is even\n",
      "85  is odd\n",
      "86  is even\n",
      "87  is odd\n",
      "88  is even\n",
      "89  is odd\n",
      "90  is even\n",
      "91  is odd\n",
      "92  is even\n",
      "93  is odd\n",
      "94  is even\n",
      "95  is odd\n",
      "96  is even\n",
      "97  is odd\n",
      "98  is even\n",
      "99  is odd\n"
     ]
    }
   ],
   "source": [
    "for x in range(0,100):\n",
    "    if x % 2 == 0: # % = modulos\n",
    "        print (x, ' is even')\n",
    "        continue #restart loop\n",
    "    print (x, ' is odd')"
   ]
  },
  {
   "cell_type": "code",
   "execution_count": 88,
   "metadata": {},
   "outputs": [
    {
     "name": "stdout",
     "output_type": "stream",
     "text": [
      "list of odd numbers [1, 3, 5, 7, 9, 11, 13, 15, 17, 19, 21, 23, 25, 27, 29, 31, 33, 35, 37, 39, 41, 43, 45, 47, 49, 51, 53, 55, 57, 59, 61, 63, 65, 67, 69, 71, 73, 75, 77, 79, 81, 83, 85, 87, 89, 91, 93, 95, 97, 99]\n",
      "===============================\n",
      "list of even numbers [0, 2, 4, 6, 8, 10, 12, 14, 16, 18, 20, 22, 24, 26, 28, 30, 32, 34, 36, 38, 40, 42, 44, 46, 48, 50, 52, 54, 56, 58, 60, 62, 64, 66, 68, 70, 72, 74, 76, 78, 80, 82, 84, 86, 88, 90, 92, 94, 96, 98]\n"
     ]
    }
   ],
   "source": [
    "# let's create a list of odd and even numbers <100\n",
    "odd_list=[]\n",
    "even_list=[]\n",
    "\n",
    "for x in range(0,100):\n",
    "    if x % 2 == 0: # % = modulos\n",
    "        even_list.append(x)\n",
    "        continue #restart loop\n",
    "    odd_list.append(x)\n",
    "print (\"list of odd numbers\", odd_list)\n",
    "print (\"================================================\")\n",
    "print (\"list of even numbers\", even_list)"
   ]
  },
  {
   "cell_type": "markdown",
   "metadata": {},
   "source": [
    "## Loops: an example of guessing a random number"
   ]
  },
  {
   "cell_type": "code",
   "execution_count": 90,
   "metadata": {},
   "outputs": [
    {
     "name": "stdout",
     "output_type": "stream",
     "text": [
      "Enter a valid number between 0 and 100: 23\n",
      "your guess is smaller than the target number\n",
      "Enter a valid number between 0 and 100: 12\n",
      "your guess is smaller than the target number\n",
      "Enter a valid number between 0 and 100: 65\n",
      "your guess is greater than the target number\n",
      "Enter a valid number between 0 and 100: 28\n",
      "Right answer :-)\n",
      "Attempts needed: 4\n"
     ]
    }
   ],
   "source": [
    "no_attempts = 0\n",
    "target_num = 28\n",
    "while True:\n",
    "    no_attempts += 1\n",
    "    num_input = input(\"Enter a valid number between 0 and 100: \")\n",
    "    num = int(num_input)\n",
    "    \n",
    "    if num < target_num:\n",
    "        print(\"your guess is smaller than the target number\")\n",
    "        continue\n",
    "    elif num > target_num:\n",
    "        print(\"your guess is greater than the target number\")\n",
    "        continue\n",
    "    else:\n",
    "        print(\"Right answer :-)\")\n",
    "        print(\"Attempts needed: \" + str(no_attempts))\n",
    "        break"
   ]
  },
  {
   "cell_type": "markdown",
   "metadata": {},
   "source": [
    "## how to import and use modules"
   ]
  },
  {
   "cell_type": "code",
   "execution_count": 91,
   "metadata": {},
   "outputs": [
    {
     "data": {
      "text/plain": [
       "2.0"
      ]
     },
     "execution_count": 91,
     "metadata": {},
     "output_type": "execute_result"
    }
   ],
   "source": [
    "#Import square root function from module math\n",
    "\n",
    "import math\n",
    "math.sqrt(4)\n",
    "\n",
    "import math as m\n",
    "m.sqrt(4)\n",
    "\n",
    "from math import sqrt\n",
    "sqrt(4)"
   ]
  },
  {
   "cell_type": "markdown",
   "metadata": {},
   "source": [
    "## Slicing of strings, lists, tuples"
   ]
  },
  {
   "cell_type": "code",
   "execution_count": 93,
   "metadata": {},
   "outputs": [
    {
     "data": {
      "text/plain": [
       "'H'"
      ]
     },
     "execution_count": 93,
     "metadata": {},
     "output_type": "execute_result"
    }
   ],
   "source": [
    "# slicing of a string\n",
    "txt = \"Hello World\"\n",
    "\n",
    "txt[0]"
   ]
  },
  {
   "cell_type": "code",
   "execution_count": 94,
   "metadata": {},
   "outputs": [
    {
     "data": {
      "text/plain": [
       "'Hello'"
      ]
     },
     "execution_count": 94,
     "metadata": {},
     "output_type": "execute_result"
    }
   ],
   "source": [
    "txt[0:5]"
   ]
  },
  {
   "cell_type": "code",
   "execution_count": 95,
   "metadata": {},
   "outputs": [
    {
     "data": {
      "text/plain": [
       "'d'"
      ]
     },
     "execution_count": 95,
     "metadata": {},
     "output_type": "execute_result"
    }
   ],
   "source": [
    "txt[-1]"
   ]
  },
  {
   "cell_type": "code",
   "execution_count": 96,
   "metadata": {},
   "outputs": [
    {
     "data": {
      "text/plain": [
       "1"
      ]
     },
     "execution_count": 96,
     "metadata": {},
     "output_type": "execute_result"
    }
   ],
   "source": [
    "# slicing of a list\n",
    "aList = [1, 2, 4, \"txt\"]\n",
    "\n",
    "aList[0]"
   ]
  },
  {
   "cell_type": "code",
   "execution_count": 97,
   "metadata": {},
   "outputs": [
    {
     "data": {
      "text/plain": [
       "[2, 4]"
      ]
     },
     "execution_count": 97,
     "metadata": {},
     "output_type": "execute_result"
    }
   ],
   "source": [
    "aList[1:3]"
   ]
  },
  {
   "cell_type": "code",
   "execution_count": 99,
   "metadata": {},
   "outputs": [
    {
     "data": {
      "text/plain": [
       "[4]"
      ]
     },
     "execution_count": 99,
     "metadata": {},
     "output_type": "execute_result"
    }
   ],
   "source": [
    "aList[-2:-1]"
   ]
  },
  {
   "cell_type": "code",
   "execution_count": 100,
   "metadata": {},
   "outputs": [
    {
     "name": "stdout",
     "output_type": "stream",
     "text": [
      "1\n",
      "2\n",
      "4\n",
      "txt\n"
     ]
    }
   ],
   "source": [
    "# use length of a list in a loop\n",
    "for i in range(0,len(aList)):\n",
    "    print (aList[i])"
   ]
  },
  {
   "cell_type": "markdown",
   "metadata": {},
   "source": [
    "## Tuples: using for printing"
   ]
  },
  {
   "cell_type": "code",
   "execution_count": 102,
   "metadata": {},
   "outputs": [
    {
     "name": "stdout",
     "output_type": "stream",
     "text": [
      "Jim's height is 1.78\n",
      "After 10 measurement the height of Jim is 1.782\n"
     ]
    }
   ],
   "source": [
    "num =10\n",
    "nam = \"Jim\"\n",
    "height = 1.782\n",
    "\n",
    "print (\"Jim's height is %.2f\" % (height))\n",
    "\n",
    "print (\"After %i measurement the height of %s is %.3f\" % (num, nam, height))"
   ]
  },
  {
   "cell_type": "markdown",
   "metadata": {},
   "source": [
    "## Dictionaries "
   ]
  },
  {
   "cell_type": "code",
   "execution_count": 103,
   "metadata": {},
   "outputs": [
    {
     "name": "stdout",
     "output_type": "stream",
     "text": [
      "Population of Denmark: 5760694\n"
     ]
    }
   ],
   "source": [
    "population = {\"Denmark\": 5760694, \"Austria\": 8460390, \"Norway\": 5342696}\n",
    "\n",
    "popDK = population[\"Denmark\"]\n",
    "print (\"Population of Denmark: %i\" % (popDK))"
   ]
  },
  {
   "cell_type": "code",
   "execution_count": 104,
   "metadata": {},
   "outputs": [
    {
     "name": "stdout",
     "output_type": "stream",
     "text": [
      "Staff ID 10012673 is assigned to Carsten Kessler.\n"
     ]
    }
   ],
   "source": [
    "staffID = {9917023: \"Jamal Jokar\", 10012673: \"Carsten Kessler\", 6639933: \"Lise Schrøder\"}\n",
    "\n",
    "staf = 10012673\n",
    "print (\"Staff ID %i is assigned to %s.\" % (staf, staffID[staf]))"
   ]
  },
  {
   "cell_type": "code",
   "execution_count": 105,
   "metadata": {},
   "outputs": [
    {
     "name": "stdout",
     "output_type": "stream",
     "text": [
      "Denmark 5760694\n",
      "Austria 8460390\n",
      "Norway 5342696\n"
     ]
    }
   ],
   "source": [
    "#iterate over a dictionary\n",
    "population = {\"Denmark\": 5760694, \"Austria\": 8460390, \"Norway\": 5342696}\n",
    "\n",
    "for k, v in population.items():\n",
    "    print (k,v)\n"
   ]
  },
  {
   "cell_type": "code",
   "execution_count": 106,
   "metadata": {},
   "outputs": [],
   "source": [
    "#delete one of the key-values in a dictionary\n",
    "del population[\"Austria\"]"
   ]
  },
  {
   "cell_type": "code",
   "execution_count": 107,
   "metadata": {},
   "outputs": [
    {
     "data": {
      "text/plain": [
       "{'Denmark': 5760694, 'Norway': 5342696}"
      ]
     },
     "execution_count": 107,
     "metadata": {},
     "output_type": "execute_result"
    }
   ],
   "source": [
    "population"
   ]
  },
  {
   "cell_type": "code",
   "execution_count": 108,
   "metadata": {},
   "outputs": [
    {
     "name": "stdout",
     "output_type": "stream",
     "text": [
      "Sweden is in the dictionary\n"
     ]
    }
   ],
   "source": [
    "# add element to dictionary\n",
    "\n",
    "population[\"Sweden\"] = 9514406\n",
    "\n",
    "#Element in dictionary\n",
    "if (\"Sweden\" in population) == True:\n",
    "    print (\"Sweden is in the dictionary\")\n"
   ]
  },
  {
   "cell_type": "markdown",
   "metadata": {},
   "source": [
    "## Arrays"
   ]
  },
  {
   "cell_type": "code",
   "execution_count": 109,
   "metadata": {},
   "outputs": [
    {
     "name": "stdout",
     "output_type": "stream",
     "text": [
      "[ 2 10 20]\n"
     ]
    }
   ],
   "source": [
    "from numpy import *\n",
    "a = array ([1, 5, 10])\n",
    "b = a * 2\n",
    "print (b)"
   ]
  },
  {
   "cell_type": "markdown",
   "metadata": {},
   "source": [
    "## File handling"
   ]
  },
  {
   "cell_type": "markdown",
   "metadata": {},
   "source": [
    "check your current working directory"
   ]
  },
  {
   "cell_type": "code",
   "execution_count": 110,
   "metadata": {},
   "outputs": [
    {
     "data": {
      "text/plain": [
       "'/Users/jja/Dropbox/Python'"
      ]
     },
     "execution_count": 110,
     "metadata": {},
     "output_type": "execute_result"
    }
   ],
   "source": [
    "import os\n",
    "os.getcwd()"
   ]
  },
  {
   "cell_type": "code",
   "execution_count": 112,
   "metadata": {},
   "outputs": [],
   "source": [
    "# if you want to change it, use:\n",
    "os.chdir(\"/Users/jja/Dropbox/Python/extra\")"
   ]
  },
  {
   "cell_type": "markdown",
   "metadata": {},
   "source": [
    "let's create a text file and write a line into it"
   ]
  },
  {
   "cell_type": "code",
   "execution_count": 125,
   "metadata": {},
   "outputs": [],
   "source": [
    "fh = open(\"hello.txt\", \"w\")\n",
    "lines_of_text = [\"Hello\"] # , \"welcome to AAU\", \"we hope you enjoy the python course\"\n",
    "fh.writelines(lines_of_text)\n",
    "fh.close()"
   ]
  },
  {
   "cell_type": "markdown",
   "metadata": {},
   "source": [
    "let's write more lines"
   ]
  },
  {
   "cell_type": "code",
   "execution_count": 132,
   "metadata": {},
   "outputs": [],
   "source": [
    "fh = open(\"hello.txt\", \"w\")\n",
    "lines_of_text = [\"Hello!\\n\",  \"welcome to AAU\\n\", \"we hope you enjoy the python course\\n\"] \n",
    "fh.writelines(lines_of_text)\n",
    "fh.close()"
   ]
  },
  {
   "cell_type": "markdown",
   "metadata": {},
   "source": [
    "let's read the lines "
   ]
  },
  {
   "cell_type": "code",
   "execution_count": 133,
   "metadata": {},
   "outputs": [
    {
     "name": "stdout",
     "output_type": "stream",
     "text": [
      "Hello!\n",
      "welcome to AAU\n",
      "we hope you enjoy the python course\n",
      "\n"
     ]
    }
   ],
   "source": [
    "fh = open(\"hello.txt\",\"r\")\n",
    "print (fh.read())"
   ]
  },
  {
   "cell_type": "code",
   "execution_count": 156,
   "metadata": {},
   "outputs": [
    {
     "name": "stdout",
     "output_type": "stream",
     "text": [
      "Hello!\n",
      "\n",
      "welcome to AAU\n",
      "\n",
      "we hope you enjoy the python course\n",
      "\n"
     ]
    }
   ],
   "source": [
    "fh = open(\"hello.txt\",\"r\")\n",
    "\n",
    "for line in fh.readlines():\n",
    "    print (line)\n",
    "fh.close()"
   ]
  },
  {
   "cell_type": "markdown",
   "metadata": {},
   "source": [
    "## Files and directories"
   ]
  },
  {
   "cell_type": "code",
   "execution_count": 157,
   "metadata": {},
   "outputs": [
    {
     "name": "stdout",
     "output_type": "stream",
     "text": [
      "cities.txt\n",
      "['cities.txt']\n",
      "paper Wikimapia-2nd response.txt\n",
      "['cities.txt', 'paper Wikimapia-2nd response.txt']\n",
      "2 files found.\n"
     ]
    }
   ],
   "source": [
    "import os, sys\n",
    "\n",
    "path = \"/Users/jja/Downloads\"\n",
    "\n",
    "alldirs =[]\n",
    "dirs = os.listdir(path)\n",
    "# here we identify file extention\n",
    "fileext = \"txt\" \n",
    "\n",
    "# This would print all the files and directories\n",
    "for file in dirs:\n",
    "    if file.endswith(fileext):\n",
    "        alldirs.append(file)\n",
    "        print (file)\n",
    "        print (alldirs)\n",
    " \n",
    "print (\"%i files found.\" % (len(alldirs)))"
   ]
  },
  {
   "cell_type": "markdown",
   "metadata": {},
   "source": [
    "## Error handing"
   ]
  },
  {
   "cell_type": "code",
   "execution_count": 160,
   "metadata": {},
   "outputs": [
    {
     "name": "stdout",
     "output_type": "stream",
     "text": [
      "('Error occured: ', ValueError(\"invalid literal for int() with base 10: 'Test'\"))\n"
     ]
    },
    {
     "name": "stderr",
     "output_type": "stream",
     "text": [
      "ERROR:root:Invalid alias: The name clear can't be aliased because it is another magic command.\n",
      "ERROR:root:Invalid alias: The name more can't be aliased because it is another magic command.\n",
      "ERROR:root:Invalid alias: The name less can't be aliased because it is another magic command.\n",
      "ERROR:root:Invalid alias: The name man can't be aliased because it is another magic command.\n"
     ]
    }
   ],
   "source": [
    "try:\n",
    "    int(\"Test\")\n",
    "except Exception as err:\n",
    "    print((\"Error occured: \", err))\n",
    "    exit() #stop script"
   ]
  },
  {
   "cell_type": "code",
   "execution_count": 1,
   "metadata": {},
   "outputs": [
    {
     "name": "stdout",
     "output_type": "stream",
     "text": [
      "Please enter a number: uyt\n",
      "Oops!  That was no valid number.  Try again...\n",
      "Please enter a number: 43\n"
     ]
    }
   ],
   "source": [
    "while True:\n",
    "    try:\n",
    "        x = int(input(\"Please enter a number: \"))\n",
    "        break\n",
    "    except ValueError:\n",
    "        print(\"Oops!  That was no valid number.  Try again...\")"
   ]
  },
  {
   "cell_type": "code",
   "execution_count": 1,
   "metadata": {},
   "outputs": [
    {
     "name": "stdout",
     "output_type": "stream",
     "text": [
      "('Could not write file: ', FileNotFoundError(2, 'No such file or directory'))\n"
     ]
    },
    {
     "name": "stderr",
     "output_type": "stream",
     "text": [
      "ERROR:root:Invalid alias: The name clear can't be aliased because it is another magic command.\n",
      "ERROR:root:Invalid alias: The name more can't be aliased because it is another magic command.\n",
      "ERROR:root:Invalid alias: The name less can't be aliased because it is another magic command.\n",
      "ERROR:root:Invalid alias: The name man can't be aliased because it is another magic command.\n"
     ]
    }
   ],
   "source": [
    "try:\n",
    "    outfile = open(\"x:/tmp/output.txt\", \"w\")\n",
    "    outfile.write(\"any output to file\\n\")\n",
    "    outfile.close()\n",
    "    print (\"File successfully written.\")\n",
    "\n",
    "except Exception as err:\n",
    "    print((\"Could not write file: \", err))\n",
    "    exit()\n",
    "\n"
   ]
  },
  {
   "cell_type": "markdown",
   "metadata": {},
   "source": [
    "## working with time"
   ]
  },
  {
   "cell_type": "code",
   "execution_count": 1,
   "metadata": {},
   "outputs": [
    {
     "name": "stdout",
     "output_type": "stream",
     "text": [
      "1556045829.708208\n"
     ]
    }
   ],
   "source": [
    "import time\n",
    "print (time.time())"
   ]
  },
  {
   "cell_type": "code",
   "execution_count": 2,
   "metadata": {},
   "outputs": [
    {
     "name": "stdout",
     "output_type": "stream",
     "text": [
      "Process took 0.046 sec.\n"
     ]
    }
   ],
   "source": [
    "import time\n",
    "start = time.time()\n",
    "for i in range(1,1000000):\n",
    "    pass\n",
    "end = time.time()\n",
    "\n",
    "runtime = end - start\n",
    "print (\"Process took %.3f sec.\" % (runtime))"
   ]
  },
  {
   "cell_type": "code",
   "execution_count": 5,
   "metadata": {},
   "outputs": [
    {
     "name": "stdout",
     "output_type": "stream",
     "text": [
      "Year:  2019\n",
      "Month:  4\n",
      "Day:  23\n"
     ]
    }
   ],
   "source": [
    "localtime = time.localtime(time.time())\n",
    "print (\"Year: \", localtime.tm_year)\n",
    "print (\"Month: \", localtime.tm_mon)\n",
    "print (\"Day: \", localtime.tm_mday)"
   ]
  }
 ],
 "metadata": {
  "kernelspec": {
   "display_name": "Python 3",
   "language": "python",
   "name": "python3"
  },
  "language_info": {
   "codemirror_mode": {
    "name": "ipython",
    "version": 3
   },
   "file_extension": ".py",
   "mimetype": "text/x-python",
   "name": "python",
   "nbconvert_exporter": "python",
   "pygments_lexer": "ipython3",
   "version": "3.7.3"
  }
 },
 "nbformat": 4,
 "nbformat_minor": 2
}
