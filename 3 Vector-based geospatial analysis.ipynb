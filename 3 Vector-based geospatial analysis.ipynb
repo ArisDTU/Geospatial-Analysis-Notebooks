{
 "cells": [
  {
   "cell_type": "markdown",
   "metadata": {
    "button": false,
    "new_sheet": false,
    "run_control": {
     "read_only": false
    }
   },
   "source": [
    "## This is a notebook for VectorPython session\n",
    "You will be introduced to how to interact with vector objects in Python."
   ]
  },
  {
   "cell_type": "markdown",
   "metadata": {
    "button": false,
    "new_sheet": false,
    "run_control": {
     "read_only": false
    }
   },
   "source": [
    "## Creating points"
   ]
  },
  {
   "cell_type": "code",
   "execution_count": 2,
   "metadata": {
    "button": false,
    "new_sheet": false,
    "run_control": {
     "read_only": false
    }
   },
   "outputs": [
    {
     "name": "stdout",
     "output_type": "stream",
     "text": [
      "<class 'shapely.geometry.point.Point'>\n"
     ]
    }
   ],
   "source": [
    "# Import necessary geometric objects from shapely module \n",
    "from shapely.geometry import Point, LineString, Polygon \n",
    "\n",
    "# Create Point geometric object(s) with coordinates \n",
    "point1 = Point(2.2, 4.2) \n",
    "point2 = Point(7.2, -25.1) \n",
    "point3 = Point(9.26, -2.456) \n",
    "point3D = Point(9.26, -2.456, 0.57) \n",
    "\n",
    "# What is the type of the point? \n",
    "point_type = type(point1)\n",
    "\n",
    "print (point_type)"
   ]
  },
  {
   "cell_type": "markdown",
   "metadata": {
    "button": false,
    "new_sheet": false,
    "run_control": {
     "read_only": false
    }
   },
   "source": [
    "Let's check how the variables look like"
   ]
  },
  {
   "cell_type": "code",
   "execution_count": 3,
   "metadata": {
    "button": false,
    "new_sheet": false,
    "run_control": {
     "read_only": false
    }
   },
   "outputs": [
    {
     "name": "stdout",
     "output_type": "stream",
     "text": [
      "POINT (2.2 4.2)\n",
      "POINT Z (9.26 -2.456 0.57)\n",
      "<class 'shapely.geometry.point.Point'>\n"
     ]
    }
   ],
   "source": [
    "print(point1) \n",
    "print(point3D) \n",
    "print(type(point1))"
   ]
  },
  {
   "cell_type": "markdown",
   "metadata": {
    "button": false,
    "new_sheet": false,
    "run_control": {
     "read_only": false
    }
   },
   "source": [
    "### Point -object has some built-in attributes and some useful functionalities that can be accessed, e.g.,\n",
    "    - to extract the coordinates of Points,\n",
    "    - to calculate the Euclidian distance between them."
   ]
  },
  {
   "cell_type": "code",
   "execution_count": 4,
   "metadata": {
    "button": false,
    "new_sheet": false,
    "run_control": {
     "read_only": false
    }
   },
   "outputs": [
    {
     "name": "stdout",
     "output_type": "stream",
     "text": [
      "The type is <class 'shapely.coords.CoordinateSequence'>\n",
      "xy variable:\n",
      " (array('d', [2.2]), array('d', [4.2])) \n",
      "\n",
      "x variable:\n",
      " 2.2 \n",
      "\n",
      "y variable:\n",
      " 4.2\n"
     ]
    }
   ],
   "source": [
    "# Get the coordinates \n",
    "point_coords = point1.coords \n",
    "\n",
    "# What is the type of this? \n",
    "print (\"The type is\", type(point_coords))\n",
    "\n",
    "# Get x and y coordinates \n",
    "xy = point_coords.xy \n",
    "\n",
    "# Get only x coordinates of Point1 \n",
    "x = point1.x \n",
    "\n",
    "# What about y coordinate? \n",
    "y = point1.y \n",
    "\n",
    "# Print out \n",
    "print(\"xy variable:\\n\", xy, \"\\n\") \n",
    "print(\"x variable:\\n\", x, \"\\n\") \n",
    "print(\"y variable:\\n\", y)"
   ]
  },
  {
   "cell_type": "markdown",
   "metadata": {
    "button": false,
    "new_sheet": false,
    "run_control": {
     "read_only": false
    }
   },
   "source": [
    "As you can see, the xy -variable contains a tuple where x and y coordinates are stored inside numpy arrays. Using the attributes point1.x and point1.y, it is possible to get the coordinates directly as plain decimal numbers.\n"
   ]
  },
  {
   "cell_type": "markdown",
   "metadata": {
    "button": false,
    "new_sheet": false,
    "run_control": {
     "read_only": false
    }
   },
   "source": [
    "Now, we are going to calculate the distance between the two points. The returned distance depends on the projection of the points (e.g. degrees in WGS84, meters in UTM):"
   ]
  },
  {
   "cell_type": "code",
   "execution_count": 5,
   "metadata": {
    "button": false,
    "new_sheet": false,
    "run_control": {
     "read_only": false
    }
   },
   "outputs": [
    {
     "name": "stdout",
     "output_type": "stream",
     "text": [
      "Distance between the points is 29.72 decimal degress\n"
     ]
    }
   ],
   "source": [
    "# Calculate the distance between point1 and point2\n",
    "point_dist = point1.distance(point2) \n",
    "\n",
    "print(\"Distance between the points is {0:.2f} decimal degress\".format(point_dist))"
   ]
  },
  {
   "cell_type": "markdown",
   "metadata": {
    "button": false,
    "new_sheet": false,
    "run_control": {
     "read_only": false
    }
   },
   "source": [
    "## Creating LineString"
   ]
  },
  {
   "cell_type": "code",
   "execution_count": 6,
   "metadata": {
    "button": false,
    "new_sheet": false,
    "run_control": {
     "read_only": false
    }
   },
   "outputs": [
    {
     "name": "stdout",
     "output_type": "stream",
     "text": [
      "line variable: \n",
      " LINESTRING (2.2 4.2, 7.2 -25.1, 9.26 -2.456) \n",
      "\n",
      "line2 variable: \n",
      " LINESTRING (2.2 4.2, 7.2 -25.1, 9.26 -2.456) \n",
      "\n",
      "type of the line: \n",
      " <class 'shapely.geometry.linestring.LineString'>\n"
     ]
    }
   ],
   "source": [
    "# Create a LineString from our Point objects \n",
    "line = LineString([point1, point2, point3])\n",
    " \n",
    "# It is also possible to use coordinate tuples having the same outcome \n",
    "line2 = LineString([(2.2, 4.2), (7.2, -25.1), (9.26, -2.456)])\n",
    " \n",
    "# Print the results \n",
    "print(\"line variable: \\n\", line, \"\\n\") \n",
    "print(\"line2 variable: \\n\", line2, \"\\n\") \n",
    "print(\"type of the line: \\n\", type(line))"
   ]
  },
  {
   "cell_type": "markdown",
   "metadata": {
    "button": false,
    "new_sheet": false,
    "run_control": {
     "read_only": false
    }
   },
   "source": [
    "## LineString attributes and functions\n",
    "We can extract the coordinates of a LineString similarly as we did with Point"
   ]
  },
  {
   "cell_type": "code",
   "execution_count": 7,
   "metadata": {
    "button": false,
    "new_sheet": false,
    "run_control": {
     "read_only": false
    }
   },
   "outputs": [
    {
     "name": "stdout",
     "output_type": "stream",
     "text": [
      "The x, y coordinates of the line is (array('d', [2.2, 7.2, 9.26]), array('d', [4.2, -25.1, -2.456]))\n"
     ]
    }
   ],
   "source": [
    "# Get x and y coordinates of the line \n",
    "lxy = line.xy \n",
    "print(\"The x, y coordinates of the line is\", lxy)"
   ]
  },
  {
   "cell_type": "code",
   "execution_count": 8,
   "metadata": {
    "button": false,
    "new_sheet": false,
    "run_control": {
     "read_only": false
    }
   },
   "outputs": [
    {
     "name": "stdout",
     "output_type": "stream",
     "text": [
      "line_x:\n",
      " array('d', [2.2, 7.2, 9.26]) \n",
      "\n",
      "line_y:\n",
      " array('d', [4.2, -25.1, -2.456])\n"
     ]
    }
   ],
   "source": [
    "# Extract x coordinates \n",
    "line_x = lxy[0] \n",
    "\n",
    "# Extract y coordinates straight from the LineObject by referring to a array at index 1 \n",
    "line_y = line.xy[1] \n",
    "\n",
    "print(\"line_x:\\n\", line_x, '\\n') \n",
    "print('line_y:\\n', line_y)\n"
   ]
  },
  {
   "cell_type": "markdown",
   "metadata": {
    "button": false,
    "new_sheet": false,
    "run_control": {
     "read_only": false
    }
   },
   "source": [
    "It is possible to retrieve specific attributes e.g., lenght of the line and center of the line (centroid) straight from the LineString object itself:\n"
   ]
  },
  {
   "cell_type": "code",
   "execution_count": 9,
   "metadata": {
    "button": false,
    "new_sheet": false,
    "run_control": {
     "read_only": false
    }
   },
   "outputs": [
    {
     "name": "stdout",
     "output_type": "stream",
     "text": [
      "Length of our line: 52.46\n",
      "Centroid of our line:  POINT (6.229961354035622 -11.89241115757239)\n",
      "Type of the centroid: <class 'shapely.geometry.point.Point'>\n"
     ]
    }
   ],
   "source": [
    "# Get the lenght of the line \n",
    "l_length = line.length \n",
    "\n",
    "# Get the centroid of the line \n",
    "l_centroid = line.centroid \n",
    "\n",
    "# What type is the centroid? \n",
    "centroid_type = type(l_centroid) \n",
    "\n",
    "# Print the outputs \n",
    "print(\"Length of our line: {0:.2f}\".format(l_length)) \n",
    "print(\"Centroid of our line: \", l_centroid) \n",
    "print(\"Type of the centroid:\", centroid_type)"
   ]
  },
  {
   "cell_type": "markdown",
   "metadata": {
    "button": false,
    "new_sheet": false,
    "run_control": {
     "read_only": false
    }
   },
   "source": [
    "## Create a polygon"
   ]
  },
  {
   "cell_type": "markdown",
   "metadata": {
    "button": false,
    "new_sheet": false,
    "run_control": {
     "read_only": false
    }
   },
   "source": [
    "Creating a Polygon -object is similiar to points and lines creation, but you need at least three coordinate-tuples\n"
   ]
  },
  {
   "cell_type": "code",
   "execution_count": 10,
   "metadata": {
    "button": false,
    "new_sheet": false,
    "run_control": {
     "read_only": false
    }
   },
   "outputs": [
    {
     "name": "stdout",
     "output_type": "stream",
     "text": [
      "poly: POLYGON ((2.2 4.2, 7.2 -25.1, 9.26 -2.456, 2.2 4.2))\n",
      "poly2: POLYGON ((2.2 4.2, 7.2 -25.1, 9.26 -2.456, 2.2 4.2))\n",
      "Geometry type as text: Polygon\n",
      "Geometry how Python shows it: <class 'shapely.geometry.polygon.Polygon'>\n"
     ]
    }
   ],
   "source": [
    "# Create a Polygon from the coordinates \n",
    "poly = Polygon([(2.2, 4.2), (7.2, -25.1), (9.26, -2.456)]) \n",
    "\n",
    "# We can also use our previously created Point objects (same outcome) \n",
    "# --> notice that Polygon object requires x,y coordinates as input \n",
    "poly2 = Polygon([[p.x, p.y] for p in [point1, point2, point3]]) \n",
    "\n",
    "# Geometry type can be accessed as a String \n",
    "poly_type = poly.geom_type \n",
    "\n",
    "# Using the Python's type function gives the type in a different format \n",
    "poly_type2 = type(poly) \n",
    "\n",
    "# Let's see how our Polygon looks like \n",
    "print('poly:', poly) \n",
    "print('poly2:', poly2) \n",
    "print(\"Geometry type as text:\", poly_type) \n",
    "print(\"Geometry how Python shows it:\", poly_type2)"
   ]
  },
  {
   "cell_type": "markdown",
   "metadata": {
    "button": false,
    "new_sheet": false,
    "run_control": {
     "read_only": false
    }
   },
   "source": [
    "Notice that Polygon representation has double parentheses around the coordinates (i.e. POLYGON ((<values in here>)) ). This is because Polygon can also have holes inside of it.\n"
   ]
  },
  {
   "cell_type": "markdown",
   "metadata": {
    "button": false,
    "new_sheet": false,
    "run_control": {
     "read_only": false
    }
   },
   "source": [
    "According to the help of Polygon -object, a Polygon can be constructed using exterior coordinates and interior coordinates (optional) where the interior coordinates creates a hole inside the Polygon:\n"
   ]
  },
  {
   "cell_type": "markdown",
   "metadata": {
    "button": false,
    "new_sheet": false,
    "run_control": {
     "read_only": false
    }
   },
   "source": [
    "### Let’s see how we can create a Polygon with a hole inside."
   ]
  },
  {
   "cell_type": "code",
   "execution_count": 11,
   "metadata": {
    "button": false,
    "new_sheet": false,
    "run_control": {
     "read_only": false
    }
   },
   "outputs": [
    {
     "name": "stdout",
     "output_type": "stream",
     "text": [
      "world: POLYGON ((-180 90, -180 -90, 180 -90, 180 90, -180 90))\n",
      "world_has_a_hole: POLYGON ((-180 90, -180 -90, 180 -90, 180 90, -180 90), (-170 80, -170 -80, 170 -80, 170 80, -170 80))\n",
      "type: <class 'shapely.geometry.polygon.Polygon'>\n"
     ]
    }
   ],
   "source": [
    "# Let's create a bounding box of the world and make a whole in it # First we define our exterior \n",
    "world_exterior = [(-180, 90), (-180, -90), (180, -90), (180, 90)] \n",
    "\n",
    "# Let's create a single big hole where we leave ten decimal degrees at the boundaries of the world. # Notice: there could be multiple holes, thus we need to provide a list of holes \n",
    "hole = [[(-170, 80), (-170, -80), (170, -80), (170, 80)]] \n",
    "\n",
    "# World without a hole \n",
    "world = Polygon(shell=world_exterior) \n",
    "\n",
    "# Now we can construct our Polygon with the hole inside \n",
    "world_has_a_hole = Polygon(shell=world_exterior, holes=hole)\n",
    "\n",
    "#Let’s see what we have now\n",
    "print('world:', world) \n",
    "print('world_has_a_hole:', world_has_a_hole) \n",
    "print('type:', type(world_has_a_hole))"
   ]
  },
  {
   "cell_type": "markdown",
   "metadata": {
    "button": false,
    "new_sheet": false,
    "run_control": {
     "read_only": false
    }
   },
   "source": [
    "Let's see a few of the available attributes and how to access them:"
   ]
  },
  {
   "cell_type": "code",
   "execution_count": 12,
   "metadata": {
    "button": false,
    "new_sheet": false,
    "run_control": {
     "read_only": false
    }
   },
   "outputs": [
    {
     "name": "stdout",
     "output_type": "stream",
     "text": [
      "Poly centroid:  POINT (-0 -0)\n",
      "Poly Area:  64800.0\n",
      "Poly Bounding Box:  (-180.0, -90.0, 180.0, 90.0)\n",
      "Poly Exterior:  LINEARRING (-180 90, -180 -90, 180 -90, 180 90, -180 90)\n",
      "Poly Exterior Length:  1080.0\n"
     ]
    }
   ],
   "source": [
    "# Get the centroid of the Polygon \n",
    "world_centroid = world.centroid \n",
    "\n",
    "# Get the area of the Polygon \n",
    "world_area = world.area \n",
    "\n",
    "# Get the bounds of the Polygon (i.e. bounding box) \n",
    "world_bbox = world.bounds \n",
    "\n",
    "# Get the exterior of the Polygon \n",
    "world_ext = world.exterior \n",
    "\n",
    "# Get the length of the exterior \n",
    "world_ext_length = world_ext.length \n",
    "\n",
    "# Print the outputs \n",
    "print(\"Poly centroid: \", world_centroid) \n",
    "print(\"Poly Area: \", world_area) \n",
    "print(\"Poly Bounding Box: \", world_bbox) \n",
    "print(\"Poly Exterior: \", world_ext) \n",
    "print(\"Poly Exterior Length: \", world_ext_length)"
   ]
  },
  {
   "cell_type": "markdown",
   "metadata": {
    "button": false,
    "new_sheet": false,
    "run_control": {
     "read_only": false
    }
   },
   "source": [
    "# Part 2"
   ]
  },
  {
   "cell_type": "markdown",
   "metadata": {
    "button": false,
    "new_sheet": false,
    "run_control": {
     "read_only": false
    }
   },
   "source": [
    "# Geopandas\n",
    "You will learn \n",
    "- how to read and write spatial data, \n",
    "- how to deal with projections in Python using Geopandas \n",
    "- and some useful data management functionalities."
   ]
  },
  {
   "cell_type": "markdown",
   "metadata": {
    "button": false,
    "new_sheet": false,
    "run_control": {
     "read_only": false
    }
   },
   "source": [
    "#### Let’s Download Land Use data for CPH\n",
    "\n",
    "This bit will download a zip file with data for Copenhagen and unzip it into a folder called `Data2`."
   ]
  },
  {
   "cell_type": "code",
   "execution_count": 14,
   "metadata": {},
   "outputs": [],
   "source": [
    "from io import BytesIO\n",
    "from urllib.request import urlopen\n",
    "from zipfile import ZipFile\n",
    "\n",
    "zipurl = 'https://www.eea.europa.eu/data-and-maps/data/urban-atlas/denmark/dk001l_kobenhavn.zip/at_download/file'\n",
    "with urlopen(zipurl) as zipresp:\n",
    "    with ZipFile(BytesIO(zipresp.read())) as zfile:\n",
    "        zfile.extractall('Data2')"
   ]
  },
  {
   "cell_type": "markdown",
   "metadata": {},
   "source": [
    "Let's open our fresh new shapefile using [geopandas](https://geopandas.org):"
   ]
  },
  {
   "cell_type": "code",
   "execution_count": 15,
   "metadata": {
    "button": false,
    "new_sheet": false,
    "run_control": {
     "read_only": false
    }
   },
   "outputs": [
    {
     "name": "stdout",
     "output_type": "stream",
     "text": [
      "The type of data is <class 'geopandas.geodataframe.GeoDataFrame'>\n",
      "      CITIES LUZ_OR_CIT   CODE                                  ITEM  \\\n",
      "0  Kobenhavn     DK001L  11100  Continuous Urban Fabric (S.L. > 80%)   \n",
      "1  Kobenhavn     DK001L  11100  Continuous Urban Fabric (S.L. > 80%)   \n",
      "2  Kobenhavn     DK001L  11100  Continuous Urban Fabric (S.L. > 80%)   \n",
      "3  Kobenhavn     DK001L  11100  Continuous Urban Fabric (S.L. > 80%)   \n",
      "4  Kobenhavn     DK001L  11100  Continuous Urban Fabric (S.L. > 80%)   \n",
      "5  Kobenhavn     DK001L  11100  Continuous Urban Fabric (S.L. > 80%)   \n",
      "6  Kobenhavn     DK001L  11100  Continuous Urban Fabric (S.L. > 80%)   \n",
      "7  Kobenhavn     DK001L  11100  Continuous Urban Fabric (S.L. > 80%)   \n",
      "8  Kobenhavn     DK001L  11100  Continuous Urban Fabric (S.L. > 80%)   \n",
      "9  Kobenhavn     DK001L  11100  Continuous Urban Fabric (S.L. > 80%)   \n",
      "\n",
      "  PROD_DATE    SHAPE_LEN    SHAPE_AREA  \\\n",
      "0      2009   267.364043   3886.243449   \n",
      "1      2009  1314.838061  29226.903814   \n",
      "2      2009   393.129687   7232.121381   \n",
      "3      2009   557.687995  15391.472515   \n",
      "4      2009   308.690214   5949.885216   \n",
      "5      2009   396.799878   9603.962504   \n",
      "6      2009   349.770830   6648.014385   \n",
      "7      2009   257.494494   3904.576959   \n",
      "8      2009   224.277999   2780.263116   \n",
      "9      2009   190.436017   1547.116805   \n",
      "\n",
      "                                            geometry  \n",
      "0  POLYGON ((4461387.187 3583322.185, 4461394.329...  \n",
      "1  POLYGON ((4461881.407 3584545.952, 4461881.821...  \n",
      "2  POLYGON ((4463135.744 3584557.919, 4463124.767...  \n",
      "3  POLYGON ((4462757.186 3584686.731, 4462651.426...  \n",
      "4  POLYGON ((4462562.979 3585068.766, 4462555.118...  \n",
      "5  POLYGON ((4462436.837 3585174.991, 4462429.087...  \n",
      "6  POLYGON ((4458317.708 3584893.451, 4458282.641...  \n",
      "7  POLYGON ((4462445.915 3585260.930, 4462440.843...  \n",
      "8  POLYGON ((4462659.982 3585655.410, 4462661.441...  \n",
      "9  POLYGON ((4461594.646 3587668.009, 4461575.094...  \n"
     ]
    }
   ],
   "source": [
    "# Import necessary modules \n",
    "import geopandas as gpd \n",
    "import os\n",
    "\n",
    "#Set filepath \n",
    "curwd= os.chdir(\"Data2\")\n",
    "fp = \"dk001l_kobenhavn/dk001l_kobenhavn.shp\" \n",
    "\n",
    "# Read file using gpd.read_file() \n",
    "data = gpd.read_file(fp)\n",
    "\n",
    "print (\"The type of data is\", type(data))\n",
    "\n",
    "print(data.head(10)) \n"
   ]
  },
  {
   "cell_type": "code",
   "execution_count": 16,
   "metadata": {},
   "outputs": [
    {
     "name": "stdout",
     "output_type": "stream",
     "text": [
      "Help on function read_file in module geopandas.io.file:\n",
      "\n",
      "read_file(filename, bbox=None, mask=None, rows=None, **kwargs)\n",
      "    Returns a GeoDataFrame from a file or URL.\n",
      "    \n",
      "    .. versionadded:: 0.7.0 mask, rows\n",
      "    \n",
      "    Parameters\n",
      "    ----------\n",
      "    filename: str\n",
      "        Either the absolute or relative path to the file or URL to\n",
      "        be opened.\n",
      "    bbox: tuple | GeoDataFrame or GeoSeries | shapely Geometry, default None\n",
      "        Filter features by given bounding box, GeoSeries, GeoDataFrame or a\n",
      "        shapely geometry. CRS mis-matches are resolved if given a GeoSeries\n",
      "        or GeoDataFrame. Cannot be used with mask.\n",
      "    mask: dict | GeoDataFrame or GeoSeries | shapely Geometry, default None\n",
      "        Filter for features that intersect with the given dict-like geojson\n",
      "        geometry, GeoSeries, GeoDataFrame or shapely geometry.\n",
      "        CRS mis-matches are resolved if given a GeoSeries or GeoDataFrame.\n",
      "        Cannot be used with bbox.\n",
      "    rows: int or slice, default None\n",
      "        Load in specific rows by passing an integer (first `n` rows) or a\n",
      "        slice() object.\n",
      "    **kwargs:\n",
      "        Keyword args to be passed to the `open` or `BytesCollection` method\n",
      "        in the fiona library when opening the file. For more information on\n",
      "        possible keywords, type:\n",
      "        ``import fiona; help(fiona.open)``\n",
      "    \n",
      "    Examples\n",
      "    --------\n",
      "    >>> df = geopandas.read_file(\"nybb.shp\")\n",
      "    \n",
      "    Returns\n",
      "    -------\n",
      "    :obj:`geopandas.GeoDataFrame`\n",
      "    \n",
      "    Notes\n",
      "    -----\n",
      "    The format drivers will attempt to detect the encoding of your data, but\n",
      "    may fail. In this case, the proper encoding can be specified explicitly\n",
      "    by using the encoding keyword parameter, e.g. ``encoding='utf-8'``.\n",
      "\n"
     ]
    }
   ],
   "source": [
    "help(gpd.read_file)"
   ]
  },
  {
   "cell_type": "markdown",
   "metadata": {
    "button": false,
    "new_sheet": false,
    "run_control": {
     "read_only": false
    }
   },
   "source": [
    "## Let's plot it"
   ]
  },
  {
   "cell_type": "code",
   "execution_count": 18,
   "metadata": {
    "button": false,
    "new_sheet": false,
    "run_control": {
     "read_only": false
    }
   },
   "outputs": [
    {
     "data": {
      "text/plain": [
       "<matplotlib.axes._subplots.AxesSubplot at 0x122aaffd0>"
      ]
     },
     "execution_count": 18,
     "metadata": {},
     "output_type": "execute_result"
    },
    {
     "data": {
      "image/png": "[encoded data removed]",
      "text/plain": [
       "<Figure size 432x288 with 1 Axes>"
      ]
     },
     "metadata": {
      "needs_background": "light"
     },
     "output_type": "display_data"
    }
   ],
   "source": [
    "%matplotlib inline \n",
    "data.plot()"
   ]
  },
  {
   "cell_type": "markdown",
   "metadata": {
    "button": false,
    "new_sheet": false,
    "run_control": {
     "read_only": false
    }
   },
   "source": [
    "## How to write it to a new shapefile"
   ]
  },
  {
   "cell_type": "code",
   "execution_count": 19,
   "metadata": {
    "button": false,
    "new_sheet": false,
    "run_control": {
     "read_only": false
    }
   },
   "outputs": [],
   "source": [
    "# Set the output path for the data \n",
    "outfp = \"dk001l_kobenhavn/dk001l_kobenhavn_subset.shp\" \n",
    "\n",
    "# Select first 50 rows \n",
    "selection = data[0:50] \n",
    "\n",
    "# Write those rows into a new Shapefile (the default output file format is Shapefile) \n",
    "selection.to_file(outfp)"
   ]
  },
  {
   "cell_type": "markdown",
   "metadata": {
    "button": false,
    "new_sheet": false,
    "run_control": {
     "read_only": false
    }
   },
   "source": [
    "## 🏋 Exercise\n",
    "\n",
    "Plot the subset data! Add your code in the cell below."
   ]
  },
  {
   "cell_type": "code",
   "execution_count": null,
   "metadata": {},
   "outputs": [],
   "source": []
  },
  {
   "cell_type": "markdown",
   "metadata": {
    "button": false,
    "new_sheet": false,
    "run_control": {
     "read_only": false
    }
   },
   "source": [
    "Let’s print the first 5 rows of the column ‘geometry’:\n"
   ]
  },
  {
   "cell_type": "code",
   "execution_count": 20,
   "metadata": {
    "button": false,
    "new_sheet": false,
    "run_control": {
     "read_only": false
    }
   },
   "outputs": [
    {
     "name": "stdout",
     "output_type": "stream",
     "text": [
      "0    POLYGON ((4461387.187 3583322.185, 4461394.329...\n",
      "1    POLYGON ((4461881.407 3584545.952, 4461881.821...\n",
      "2    POLYGON ((4463135.744 3584557.919, 4463124.767...\n",
      "3    POLYGON ((4462757.186 3584686.731, 4462651.426...\n",
      "4    POLYGON ((4462562.979 3585068.766, 4462555.118...\n",
      "Name: geometry, dtype: geometry\n"
     ]
    }
   ],
   "source": [
    "print(data['geometry'].head())"
   ]
  },
  {
   "cell_type": "markdown",
   "metadata": {
    "button": false,
    "new_sheet": false,
    "run_control": {
     "read_only": false
    }
   },
   "source": [
    "Since the spatial data is stored as Shapely objects, it is possible to use all of the functionalities of Shapely module.\n",
    "Let’s prove that this is really the case by iterating over a sample of the data, and printing the area of first five polygons.\n",
    "We can iterate over the rows by using the iterrows() -function.\n"
   ]
  },
  {
   "cell_type": "code",
   "execution_count": 21,
   "metadata": {
    "button": false,
    "new_sheet": false,
    "run_control": {
     "read_only": false
    }
   },
   "outputs": [
    {
     "name": "stdout",
     "output_type": "stream",
     "text": [
      "Polygon area in m2 at index 0 is: 3886.369\n",
      "Polygon area in m2 at index 1 is: 29228.002\n",
      "Polygon area in m2 at index 2 is: 7232.469\n",
      "Polygon area in m2 at index 3 is: 15392.166\n",
      "Polygon area in m2 at index 4 is: 5950.144\n"
     ]
    }
   ],
   "source": [
    "# Make a selection that contains only the first five rows \n",
    "selection = data[0:5] \n",
    "# Iterate over rows and print the area of a Polygon \n",
    "for index, row in selection.iterrows(): \n",
    "    # Get the area of the polygon \n",
    "    poly_area = row['geometry'].area \n",
    "    # Print information for the user \n",
    "    print(\"Polygon area in m2 at index {index} is: {area:.3f}\".format(index=index, area=poly_area))\n"
   ]
  },
  {
   "cell_type": "markdown",
   "metadata": {
    "button": false,
    "new_sheet": false,
    "run_control": {
     "read_only": false
    }
   },
   "source": [
    "Let’s now create a new column into our GeoDataFrame where we calculate/store the areas of polygons into that column. No need to iterate like before.\n"
   ]
  },
  {
   "cell_type": "code",
   "execution_count": 22,
   "metadata": {
    "button": false,
    "new_sheet": false,
    "run_control": {
     "read_only": false
    }
   },
   "outputs": [
    {
     "name": "stdout",
     "output_type": "stream",
     "text": [
      "0     3886.368562\n",
      "1    29228.001584\n",
      "2     7232.468980\n",
      "3    15392.166166\n",
      "4     5950.143575\n",
      "Name: area, dtype: float64\n"
     ]
    }
   ],
   "source": [
    "# Create a new column called 'area' and assign the area of the Polygons into it \n",
    "data['area'] = data.area \n",
    "# Print first 2 rows of the area column \n",
    "print(data['area'].head(5))\n"
   ]
  },
  {
   "cell_type": "markdown",
   "metadata": {
    "button": false,
    "new_sheet": false,
    "run_control": {
     "read_only": false
    }
   },
   "source": [
    "## Let’s get the min, max and mean of areas.\n"
   ]
  },
  {
   "cell_type": "code",
   "execution_count": 23,
   "metadata": {
    "button": false,
    "new_sheet": false,
    "run_control": {
     "read_only": false
    }
   },
   "outputs": [
    {
     "name": "stdout",
     "output_type": "stream",
     "text": [
      "Max area: 84746437.22\n",
      "Min area: 1000.91\n",
      "Mean area: 78232.8\n"
     ]
    }
   ],
   "source": [
    "# Maximum area \n",
    "max_area = data['area'].max() \n",
    "# Minimum area \n",
    "min_area = data['area'].min() \n",
    "# Mean area \n",
    "mean_area = data['area'].mean() \n",
    "\n",
    "print(\"Max area: {max}\\nMin area: {min}\\nMean area: {mean}\".format(max=round(max_area, 2), min=round(min_area, 2), mean=round(mean_area, 2)))\n"
   ]
  },
  {
   "cell_type": "markdown",
   "metadata": {
    "button": false,
    "new_sheet": false,
    "run_control": {
     "read_only": false
    }
   },
   "source": [
    "# Creating geometries into a GeoDataFrame"
   ]
  },
  {
   "cell_type": "markdown",
   "metadata": {
    "button": false,
    "new_sheet": false,
    "run_control": {
     "read_only": false
    }
   },
   "source": [
    "Since geopandas takes advantage of Shapely geometric objects, it is possible to create a Shapefile from scratch by passing Shapely’s geometric objects into the GeoDataFrame. This is useful as it makes it easy to convert e.g. a text file that contains coordinates into a Shapefile. Next we will see how to create a Shapefile from scratch.\n"
   ]
  },
  {
   "cell_type": "markdown",
   "metadata": {
    "button": false,
    "new_sheet": false,
    "run_control": {
     "read_only": false
    }
   },
   "source": [
    "Let’s create an empty GeoDataFrame."
   ]
  },
  {
   "cell_type": "code",
   "execution_count": 24,
   "metadata": {
    "button": false,
    "new_sheet": false,
    "run_control": {
     "read_only": false
    }
   },
   "outputs": [
    {
     "name": "stdout",
     "output_type": "stream",
     "text": [
      "Empty GeoDataFrame\n",
      "Columns: []\n",
      "Index: []\n"
     ]
    }
   ],
   "source": [
    "import geopandas as gpd \n",
    "from shapely.geometry import Point, Polygon \n",
    "\n",
    "# Create an empty geopandas GeoDataFrame \n",
    "newdata = gpd.GeoDataFrame() \n",
    "\n",
    "# Let's see what we have at the moment \n",
    "print(newdata)\n"
   ]
  },
  {
   "cell_type": "markdown",
   "metadata": {
    "button": false,
    "new_sheet": false,
    "run_control": {
     "read_only": false
    }
   },
   "source": [
    "Let’s create a new column called geometry that will contain our Shapely objects:"
   ]
  },
  {
   "cell_type": "code",
   "execution_count": 25,
   "metadata": {
    "button": false,
    "new_sheet": false,
    "run_control": {
     "read_only": false
    }
   },
   "outputs": [
    {
     "name": "stdout",
     "output_type": "stream",
     "text": [
      "Empty GeoDataFrame\n",
      "Columns: [geometry]\n",
      "Index: []\n"
     ]
    }
   ],
   "source": [
    "# Create a new column called 'geometry' to the GeoDataFrame \n",
    "newdata['geometry'] = None \n",
    "\n",
    "# Let's again see what's inside \n",
    "print(newdata)\n"
   ]
  },
  {
   "cell_type": "markdown",
   "metadata": {
    "button": false,
    "new_sheet": false,
    "run_control": {
     "read_only": false
    }
   },
   "source": [
    "Now we have a geometry column in our GeoDataFrame but we don’t have any data stored yet.\n",
    "Let’s create a Shapely Polygon repsenting our current location (AAU) that we can later insert to our GeoDataFrame:\n"
   ]
  },
  {
   "cell_type": "code",
   "execution_count": 26,
   "metadata": {
    "button": false,
    "new_sheet": false,
    "run_control": {
     "read_only": false
    }
   },
   "outputs": [
    {
     "name": "stdout",
     "output_type": "stream",
     "text": [
      "POLYGON ((12.543269 55.650061, 12.543806 55.650511, 12.542054 55.651096, 12.541585 55.650672, 12.543269 55.650061))\n"
     ]
    }
   ],
   "source": [
    "# Coordinates of the AAU in Decimal Degrees \n",
    "coordinates = [(12.543269, 55.650061), (12.543806, 55.650511), (12.542054, 55.651096), (12.541585, 55.650672)] \n",
    "\n",
    "# Create a Shapely polygon from the coordinate-tuple list \n",
    "poly = Polygon(coordinates) \n",
    "\n",
    "# Let's see what we have \n",
    "print(poly)\n"
   ]
  },
  {
   "cell_type": "markdown",
   "metadata": {
    "button": false,
    "new_sheet": false,
    "run_control": {
     "read_only": false
    }
   },
   "source": [
    "Okay, now we have an appropriate Polygon -object.\n",
    "Let’s insert the polygon into our ‘geometry’ column of our GeoDataFrame at position 0:\n"
   ]
  },
  {
   "cell_type": "code",
   "execution_count": 27,
   "metadata": {
    "button": false,
    "new_sheet": false,
    "run_control": {
     "read_only": false
    }
   },
   "outputs": [
    {
     "name": "stdout",
     "output_type": "stream",
     "text": [
      "                                            geometry\n",
      "0  POLYGON ((12.54327 55.65006, 12.54381 55.65051...\n"
     ]
    }
   ],
   "source": [
    "# Insert the polygon into 'geometry' -column at index 0 \n",
    "newdata.loc[0, 'geometry'] = poly \n",
    "\n",
    "# Let's see what we have now \n",
    "print(newdata)"
   ]
  },
  {
   "cell_type": "markdown",
   "metadata": {
    "button": false,
    "new_sheet": false,
    "run_control": {
     "read_only": false
    }
   },
   "source": [
    "Now, we have a GeoDataFrame with a Polygon that we could already export to a Shapefile. However, typically you might want to include some useful information with your geometry.\n",
    "Hence, let’s add another column to our GeoDataFrame called location with text AAU that describes the location of the feature."
   ]
  },
  {
   "cell_type": "code",
   "execution_count": 28,
   "metadata": {
    "button": false,
    "new_sheet": false,
    "run_control": {
     "read_only": false
    }
   },
   "outputs": [
    {
     "name": "stdout",
     "output_type": "stream",
     "text": [
      "                                            geometry            location\n",
      "0  POLYGON ((12.54327 55.65006, 12.54381 55.65051...  Aalborg University\n"
     ]
    }
   ],
   "source": [
    "# Add a new column and insert data \n",
    "newdata.loc[0, 'location'] = \"Aalborg University\"\n",
    "\n",
    "# Let's check the data \n",
    "print(newdata)\n"
   ]
  },
  {
   "cell_type": "markdown",
   "metadata": {
    "button": false,
    "new_sheet": false,
    "run_control": {
     "read_only": false
    }
   },
   "source": [
    "Before exporting, it is necessary to specify the coordinate reference system (projection) for the GeoDataFrame. \n",
    "GeoDataFrame has an attribute called .crs that shows the coordinate system of the data.\n",
    "\n",
    "### 🔥 If you have never worked with GIS data before, make sure to read this [introduction to coordinate reference systems](https://docs.qgis.org/3.10/en/docs/gentle_gis_introduction/coordinate_reference_systems.html)!\n"
   ]
  },
  {
   "cell_type": "code",
   "execution_count": 30,
   "metadata": {
    "button": false,
    "new_sheet": false,
    "run_control": {
     "read_only": false
    }
   },
   "outputs": [
    {
     "name": "stdout",
     "output_type": "stream",
     "text": [
      "None\n"
     ]
    }
   ],
   "source": [
    "print(newdata.crs) "
   ]
  },
  {
   "cell_type": "markdown",
   "metadata": {
    "button": false,
    "new_sheet": false,
    "run_control": {
     "read_only": false
    }
   },
   "source": [
    "The CRS is not specified here, which will be a problem once we want to combine the data with other data – we simply don't know which area on the Earth it refers to, so let’s add a crs for our GeoDataFrame. fiona has a function called from_epsg() for passing the coordinate reference system information for the GeoDataFrame. Use WGS84 (epsg code: 4326):\n",
    "\n",
    "PS. The [EPSG database](https://epsg.io) assigns standardised codes to commonly used CRSs."
   ]
  },
  {
   "cell_type": "code",
   "execution_count": 31,
   "metadata": {
    "button": false,
    "new_sheet": false,
    "run_control": {
     "read_only": false
    }
   },
   "outputs": [
    {
     "name": "stdout",
     "output_type": "stream",
     "text": [
      "+init=epsg:4326 +no_defs +type=crs\n"
     ]
    },
    {
     "name": "stderr",
     "output_type": "stream",
     "text": [
      "/Users/carsten/miniconda3/envs/geoanalysis/lib/python3.7/site-packages/pyproj/crs/crs.py:53: FutureWarning: '+init=<authority>:<code>' syntax is deprecated. '<authority>:<code>' is the preferred initialization method. When making the change, be mindful of axis order changes: https://pyproj4.github.io/pyproj/stable/gotchas.html#axis-order-changes-in-proj-6\n",
      "  return _prepare_from_string(\" \".join(pjargs))\n"
     ]
    }
   ],
   "source": [
    "# Import specific function 'from_epsg' from fiona module \n",
    "from fiona.crs import from_epsg \n",
    "\n",
    "# Set the GeoDataFrame's coordinate system to WGS84: epsg code 4326 \n",
    "newdata.crs = from_epsg(4326) \n",
    "\n",
    "# Let's see how the crs definition looks like \n",
    "print(newdata.crs)\n"
   ]
  },
  {
   "cell_type": "markdown",
   "metadata": {
    "button": false,
    "new_sheet": false,
    "run_control": {
     "read_only": false
    }
   },
   "source": [
    "Now, we can export the GeoDataFrame using .to_file() -function.\n",
    "We only need to provide the output path for the Shapefile. \n"
   ]
  },
  {
   "cell_type": "code",
   "execution_count": 32,
   "metadata": {
    "button": false,
    "new_sheet": false,
    "run_control": {
     "read_only": false
    }
   },
   "outputs": [],
   "source": [
    "# Determine the output path for the Shapefile \n",
    "outfp = \"AAU.shp\" \n",
    "\n",
    "# Write the data into that Shapefile \n",
    "newdata.to_file(outfp)\n"
   ]
  },
  {
   "cell_type": "markdown",
   "metadata": {
    "button": false,
    "new_sheet": false,
    "run_control": {
     "read_only": false
    }
   },
   "source": [
    "# Practical example: Saving multiple Shapefiles"
   ]
  },
  {
   "cell_type": "markdown",
   "metadata": {
    "button": false,
    "new_sheet": false,
    "run_control": {
     "read_only": false
    }
   },
   "source": [
    "A very useful function that can be used in Pandas/Geopandas is .groupby(), which allows you to group data based on values on selected column(s).\n",
    "Next we will take a practical example by automating the file export task. \n",
    "\n",
    "We will group individual land use types in our ”dk001l_kobenhavn.shp” and export those into separate Shapefiles.\n",
    "Let’s start from scratch and read the Shapefile into GeoDataFrame:\n",
    "\n"
   ]
  },
  {
   "cell_type": "code",
   "execution_count": 33,
   "metadata": {
    "button": false,
    "new_sheet": false,
    "run_control": {
     "read_only": false
    }
   },
   "outputs": [
    {
     "name": "stdout",
     "output_type": "stream",
     "text": [
      "Index(['CITIES', 'LUZ_OR_CIT', 'CODE', 'ITEM', 'PROD_DATE', 'SHAPE_LEN',\n",
      "       'SHAPE_AREA', 'geometry'],\n",
      "      dtype='object')\n"
     ]
    }
   ],
   "source": [
    "# Read land use data \n",
    "fp = \"dk001l_kobenhavn/dk001l_kobenhavn.shp\" \n",
    "data = gpd.read_file(fp) \n",
    "\n",
    "# Print columns \n",
    "print(data.columns)"
   ]
  },
  {
   "cell_type": "markdown",
   "metadata": {
    "button": false,
    "new_sheet": false,
    "run_control": {
     "read_only": false
    }
   },
   "source": [
    "The TYPE column in the data contains information about different land use types. With .unique() -function we can quickly see all different names in that column:\n"
   ]
  },
  {
   "cell_type": "code",
   "execution_count": 34,
   "metadata": {
    "button": false,
    "new_sheet": false,
    "run_control": {
     "read_only": false
    }
   },
   "outputs": [
    {
     "name": "stdout",
     "output_type": "stream",
     "text": [
      "['Continuous Urban Fabric (S.L. > 80%)'\n",
      " 'Discontinuous Dense Urban Fabric (S.L. : 50% -  80%)'\n",
      " 'Discontinuous Medium Density Urban Fabric (S.L. : 30% - 50%)'\n",
      " 'Port areas' 'Isolated Structures' 'Green urban areas'\n",
      " 'Sports and leisure facilities'\n",
      " 'Agricultural + Semi-natural areas + Wetlands'\n",
      " 'Discontinuous Low Density Urban Fabric (S.L. : 10% - 30%)' 'Forests'\n",
      " 'Discontinuous Very Low Density Urban Fabric (S.L. < 10%)'\n",
      " 'Industrial, commercial, public, military and private units'\n",
      " 'Construction sites' 'Water bodies' 'Mineral extraction and dump sites'\n",
      " 'Fast transit roads and associated land'\n",
      " 'Other roads and associated land' 'Railways and associated land'\n",
      " 'Airports' 'Land without current use']\n"
     ]
    }
   ],
   "source": [
    "# Print all unique land use types in ‘ITEM' column \n",
    "print(data['ITEM'].unique())"
   ]
  },
  {
   "cell_type": "markdown",
   "metadata": {
    "button": false,
    "new_sheet": false,
    "run_control": {
     "read_only": false
    }
   },
   "source": [
    "Now we can use that information to group our data and save all individual land use types as separate Shapefiles:\n"
   ]
  },
  {
   "cell_type": "code",
   "execution_count": 35,
   "metadata": {
    "button": false,
    "new_sheet": false,
    "run_control": {
     "read_only": false
    }
   },
   "outputs": [
    {
     "data": {
      "text/plain": [
       "<pandas.core.groupby.generic.DataFrameGroupBy object at 0x124c89fd0>"
      ]
     },
     "execution_count": 35,
     "metadata": {},
     "output_type": "execute_result"
    }
   ],
   "source": [
    "# Group the data by column ‘ITEM’ \n",
    "grouped = data.groupby('CODE') \n",
    "\n",
    "# Let's see what we have \n",
    "grouped\n"
   ]
  },
  {
   "cell_type": "markdown",
   "metadata": {
    "button": false,
    "new_sheet": false,
    "run_control": {
     "read_only": false
    }
   },
   "source": [
    "As we can see, groupby -function gives us an object called DataFrameGroupBy which is similar to list of keys and values (like in a dictionary) that we can iterate over.  \n",
    "\n",
    "Let’s iterate over the groups and see what our variables key and values contain"
   ]
  },
  {
   "cell_type": "code",
   "execution_count": 36,
   "metadata": {
    "button": false,
    "new_sheet": false,
    "run_control": {
     "read_only": false
    }
   },
   "outputs": [
    {
     "name": "stdout",
     "output_type": "stream",
     "text": [
      "Key: 50000\n",
      "          CITIES LUZ_OR_CIT   CODE          ITEM PROD_DATE    SHAPE_LEN  \\\n",
      "25647  Kobenhavn     DK001L  50000  Water bodies      2009   541.063764   \n",
      "30939  Kobenhavn     DK001L  50000  Water bodies      2009   766.210454   \n",
      "31000  Kobenhavn     DK001L  50000  Water bodies      2009   629.664586   \n",
      "31149  Kobenhavn     DK001L  50000  Water bodies      2009   452.172169   \n",
      "35809  Kobenhavn     DK001L  50000  Water bodies      2009   485.057720   \n",
      "...          ...        ...    ...           ...       ...          ...   \n",
      "38369  Kobenhavn     DK001L  50000  Water bodies      2009  1631.672631   \n",
      "38370  Kobenhavn     DK001L  50000  Water bodies      2009   494.848134   \n",
      "38371  Kobenhavn     DK001L  50000  Water bodies      2009   565.917314   \n",
      "38372  Kobenhavn     DK001L  50000  Water bodies      2009  1181.548809   \n",
      "38373  Kobenhavn     DK001L  50000  Water bodies      2009   432.740728   \n",
      "\n",
      "         SHAPE_AREA                                           geometry  \n",
      "25647   1481.513547  POLYGON ((4462347.182 3592947.732, 4462314.315...  \n",
      "30939  18526.409258  POLYGON ((4462428.583 3624761.574, 4462251.468...  \n",
      "31000  21615.674968  POLYGON ((4449994.982 3653758.121, 4450083.326...  \n",
      "31149  11326.997311  POLYGON ((4457069.185 3662831.868, 4457040.599...  \n",
      "35809  11653.094250  POLYGON ((4439654.019 3629798.062, 4439591.098...  \n",
      "...             ...                                                ...  \n",
      "38369  28342.333111  POLYGON ((4456027.238 3666683.032, 4456040.728...  \n",
      "38370  11389.420474  POLYGON ((4460259.844 3666980.938, 4460213.197...  \n",
      "38371  20952.681232  POLYGON ((4469843.294 3668519.260, 4469838.385...  \n",
      "38372  11217.692448  POLYGON ((4469497.562 3668857.901, 4470073.447...  \n",
      "38373  10254.799066  POLYGON ((4456703.221 3667895.776, 4456705.059...  \n",
      "\n",
      "[550 rows x 8 columns]\n"
     ]
    }
   ],
   "source": [
    "# Iterate over the group object \n",
    "for key, values in grouped: \n",
    "    individual_LU = values \n",
    "    \n",
    "# Let's see what is the LAST item and key that we iterated \n",
    "print('Key:', key) \n",
    "print(individual_LU)\n"
   ]
  },
  {
   "cell_type": "code",
   "execution_count": 37,
   "metadata": {
    "button": false,
    "new_sheet": false,
    "run_control": {
     "read_only": false
    }
   },
   "outputs": [
    {
     "data": {
      "text/plain": [
       "geopandas.geodataframe.GeoDataFrame"
      ]
     },
     "execution_count": 37,
     "metadata": {},
     "output_type": "execute_result"
    }
   ],
   "source": [
    "type(individual_LU)\n"
   ]
  },
  {
   "cell_type": "markdown",
   "metadata": {
    "button": false,
    "new_sheet": false,
    "run_control": {
     "read_only": false
    }
   },
   "source": [
    "Finally, let’s  export all individual LU types into separate Shapefiles:\n"
   ]
  },
  {
   "cell_type": "code",
   "execution_count": 38,
   "metadata": {
    "button": false,
    "new_sheet": false,
    "run_control": {
     "read_only": false
    }
   },
   "outputs": [
    {
     "name": "stdout",
     "output_type": "stream",
     "text": [
      "Processing: 11100\n",
      "Processing: 11210\n",
      "Processing: 11220\n",
      "Processing: 11230\n",
      "Processing: 11240\n",
      "Processing: 11300\n",
      "Processing: 12100\n",
      "Processing: 12210\n",
      "Processing: 12220\n",
      "Processing: 12230\n",
      "Processing: 12300\n",
      "Processing: 12400\n",
      "Processing: 13100\n",
      "Processing: 13300\n",
      "Processing: 13400\n",
      "Processing: 14100\n",
      "Processing: 14200\n",
      "Processing: 20000\n",
      "Processing: 30000\n",
      "Processing: 50000\n"
     ]
    }
   ],
   "source": [
    "# Determine output directory \n",
    "out_directory = \"dk001l_kobenhavn\" \n",
    "\n",
    "# Create a new folder called 'Results’ \n",
    "result_folder = os.path.join(out_directory, 'Results') \n",
    "\n",
    "# Check if the folder exists already \n",
    "if not os.path.exists(result_folder): \n",
    "# If it does not exist, create one \n",
    "    os.makedirs(result_folder) \n",
    "# Iterate over the groups \n",
    "\n",
    "for key, values in grouped: \n",
    "# Format the filename (replace spaces with underscores using 'replace()'-function) \n",
    "    output_name = \"%s.shp\" % key.replace(\" \", \"_\") \n",
    "# Print some information for the user \n",
    "    print(\"Processing: %s\" % key) \n",
    "# Create an output path \n",
    "    outpath = os.path.join(result_folder, output_name) \n",
    "# Export the data \n",
    "    values.to_file(outpath)\n"
   ]
  },
  {
   "cell_type": "markdown",
   "metadata": {
    "button": false,
    "new_sheet": false,
    "run_control": {
     "read_only": false
    }
   },
   "source": [
    "# Map projections"
   ]
  },
  {
   "cell_type": "markdown",
   "metadata": {
    "button": false,
    "new_sheet": false,
    "run_control": {
     "read_only": false
    }
   },
   "source": [
    "Shapefiles contain information about the coordinate reference system that is stored in .prj -file (if the data has been appropriately produced). When reading the data into GeoDataFrame with Geopandas this information is automatically stored into .crs of the GeoDataFrame.\n",
    "Let’s read Europe_borders.shp file and checking the crs:"
   ]
  },
  {
   "cell_type": "code",
   "execution_count": 39,
   "metadata": {
    "button": false,
    "new_sheet": false,
    "run_control": {
     "read_only": false
    }
   },
   "outputs": [
    {
     "ename": "DriverError",
     "evalue": "Europe_borders.shp: No such file or directory",
     "output_type": "error",
     "traceback": [
      "\u001b[0;31m---------------------------------------------------------------------------\u001b[0m",
      "\u001b[0;31mCPLE_OpenFailedError\u001b[0m                      Traceback (most recent call last)",
      "\u001b[0;32mfiona/_shim.pyx\u001b[0m in \u001b[0;36mfiona._shim.gdal_open_vector\u001b[0;34m()\u001b[0m\n",
      "\u001b[0;32mfiona/_err.pyx\u001b[0m in \u001b[0;36mfiona._err.exc_wrap_pointer\u001b[0;34m()\u001b[0m\n",
      "\u001b[0;31mCPLE_OpenFailedError\u001b[0m: Europe_borders.shp: No such file or directory",
      "\nDuring handling of the above exception, another exception occurred:\n",
      "\u001b[0;31mDriverError\u001b[0m                               Traceback (most recent call last)",
      "\u001b[0;32m<ipython-input-39-a3726b63569f>\u001b[0m in \u001b[0;36m<module>\u001b[0;34m\u001b[0m\n\u001b[1;32m      4\u001b[0m \u001b[0;31m# Read the file\u001b[0m\u001b[0;34m\u001b[0m\u001b[0;34m\u001b[0m\u001b[0;34m\u001b[0m\u001b[0m\n\u001b[1;32m      5\u001b[0m \u001b[0mfp\u001b[0m \u001b[0;34m=\u001b[0m \u001b[0;34m\"Europe_borders.shp\"\u001b[0m\u001b[0;34m\u001b[0m\u001b[0;34m\u001b[0m\u001b[0m\n\u001b[0;32m----> 6\u001b[0;31m \u001b[0mdata\u001b[0m \u001b[0;34m=\u001b[0m \u001b[0mgpd\u001b[0m\u001b[0;34m.\u001b[0m\u001b[0mread_file\u001b[0m\u001b[0;34m(\u001b[0m\u001b[0mfp\u001b[0m\u001b[0;34m)\u001b[0m\u001b[0;34m\u001b[0m\u001b[0;34m\u001b[0m\u001b[0m\n\u001b[0m\u001b[1;32m      7\u001b[0m \u001b[0mdata\u001b[0m\u001b[0;34m.\u001b[0m\u001b[0mplot\u001b[0m\u001b[0;34m(\u001b[0m\u001b[0;34m)\u001b[0m\u001b[0;34m\u001b[0m\u001b[0;34m\u001b[0m\u001b[0m\n\u001b[1;32m      8\u001b[0m \u001b[0;34m\u001b[0m\u001b[0m\n",
      "\u001b[0;32m~/miniconda3/envs/geoanalysis/lib/python3.7/site-packages/geopandas/io/file.py\u001b[0m in \u001b[0;36mread_file\u001b[0;34m(filename, bbox, mask, rows, **kwargs)\u001b[0m\n\u001b[1;32m     87\u001b[0m \u001b[0;34m\u001b[0m\u001b[0m\n\u001b[1;32m     88\u001b[0m     \u001b[0;32mwith\u001b[0m \u001b[0mfiona_env\u001b[0m\u001b[0;34m(\u001b[0m\u001b[0;34m)\u001b[0m\u001b[0;34m:\u001b[0m\u001b[0;34m\u001b[0m\u001b[0;34m\u001b[0m\u001b[0m\n\u001b[0;32m---> 89\u001b[0;31m         \u001b[0;32mwith\u001b[0m \u001b[0mreader\u001b[0m\u001b[0;34m(\u001b[0m\u001b[0mpath_or_bytes\u001b[0m\u001b[0;34m,\u001b[0m \u001b[0;34m**\u001b[0m\u001b[0mkwargs\u001b[0m\u001b[0;34m)\u001b[0m \u001b[0;32mas\u001b[0m \u001b[0mfeatures\u001b[0m\u001b[0;34m:\u001b[0m\u001b[0;34m\u001b[0m\u001b[0;34m\u001b[0m\u001b[0m\n\u001b[0m\u001b[1;32m     90\u001b[0m \u001b[0;34m\u001b[0m\u001b[0m\n\u001b[1;32m     91\u001b[0m             \u001b[0;31m# In a future Fiona release the crs attribute of features will\u001b[0m\u001b[0;34m\u001b[0m\u001b[0;34m\u001b[0m\u001b[0;34m\u001b[0m\u001b[0m\n",
      "\u001b[0;32m~/miniconda3/envs/geoanalysis/lib/python3.7/site-packages/fiona/env.py\u001b[0m in \u001b[0;36mwrapper\u001b[0;34m(*args, **kwargs)\u001b[0m\n\u001b[1;32m    396\u001b[0m     \u001b[0;32mdef\u001b[0m \u001b[0mwrapper\u001b[0m\u001b[0;34m(\u001b[0m\u001b[0;34m*\u001b[0m\u001b[0margs\u001b[0m\u001b[0;34m,\u001b[0m \u001b[0;34m**\u001b[0m\u001b[0mkwargs\u001b[0m\u001b[0;34m)\u001b[0m\u001b[0;34m:\u001b[0m\u001b[0;34m\u001b[0m\u001b[0;34m\u001b[0m\u001b[0m\n\u001b[1;32m    397\u001b[0m         \u001b[0;32mif\u001b[0m \u001b[0mlocal\u001b[0m\u001b[0;34m.\u001b[0m\u001b[0m_env\u001b[0m\u001b[0;34m:\u001b[0m\u001b[0;34m\u001b[0m\u001b[0;34m\u001b[0m\u001b[0m\n\u001b[0;32m--> 398\u001b[0;31m             \u001b[0;32mreturn\u001b[0m \u001b[0mf\u001b[0m\u001b[0;34m(\u001b[0m\u001b[0;34m*\u001b[0m\u001b[0margs\u001b[0m\u001b[0;34m,\u001b[0m \u001b[0;34m**\u001b[0m\u001b[0mkwargs\u001b[0m\u001b[0;34m)\u001b[0m\u001b[0;34m\u001b[0m\u001b[0;34m\u001b[0m\u001b[0m\n\u001b[0m\u001b[1;32m    399\u001b[0m         \u001b[0;32melse\u001b[0m\u001b[0;34m:\u001b[0m\u001b[0;34m\u001b[0m\u001b[0;34m\u001b[0m\u001b[0m\n\u001b[1;32m    400\u001b[0m             \u001b[0;32mif\u001b[0m \u001b[0misinstance\u001b[0m\u001b[0;34m(\u001b[0m\u001b[0margs\u001b[0m\u001b[0;34m[\u001b[0m\u001b[0;36m0\u001b[0m\u001b[0;34m]\u001b[0m\u001b[0;34m,\u001b[0m \u001b[0mstr\u001b[0m\u001b[0;34m)\u001b[0m\u001b[0;34m:\u001b[0m\u001b[0;34m\u001b[0m\u001b[0;34m\u001b[0m\u001b[0m\n",
      "\u001b[0;32m~/miniconda3/envs/geoanalysis/lib/python3.7/site-packages/fiona/__init__.py\u001b[0m in \u001b[0;36mopen\u001b[0;34m(fp, mode, driver, schema, crs, encoding, layer, vfs, enabled_drivers, crs_wkt, **kwargs)\u001b[0m\n\u001b[1;32m    252\u001b[0m         \u001b[0;32mif\u001b[0m \u001b[0mmode\u001b[0m \u001b[0;32min\u001b[0m \u001b[0;34m(\u001b[0m\u001b[0;34m'a'\u001b[0m\u001b[0;34m,\u001b[0m \u001b[0;34m'r'\u001b[0m\u001b[0;34m)\u001b[0m\u001b[0;34m:\u001b[0m\u001b[0;34m\u001b[0m\u001b[0;34m\u001b[0m\u001b[0m\n\u001b[1;32m    253\u001b[0m             c = Collection(path, mode, driver=driver, encoding=encoding,\n\u001b[0;32m--> 254\u001b[0;31m                            layer=layer, enabled_drivers=enabled_drivers, **kwargs)\n\u001b[0m\u001b[1;32m    255\u001b[0m         \u001b[0;32melif\u001b[0m \u001b[0mmode\u001b[0m \u001b[0;34m==\u001b[0m \u001b[0;34m'w'\u001b[0m\u001b[0;34m:\u001b[0m\u001b[0;34m\u001b[0m\u001b[0;34m\u001b[0m\u001b[0m\n\u001b[1;32m    256\u001b[0m             \u001b[0;32mif\u001b[0m \u001b[0mschema\u001b[0m\u001b[0;34m:\u001b[0m\u001b[0;34m\u001b[0m\u001b[0;34m\u001b[0m\u001b[0m\n",
      "\u001b[0;32m~/miniconda3/envs/geoanalysis/lib/python3.7/site-packages/fiona/collection.py\u001b[0m in \u001b[0;36m__init__\u001b[0;34m(self, path, mode, driver, schema, crs, encoding, layer, vsi, archive, enabled_drivers, crs_wkt, ignore_fields, ignore_geometry, **kwargs)\u001b[0m\n\u001b[1;32m    152\u001b[0m             \u001b[0;32mif\u001b[0m \u001b[0mself\u001b[0m\u001b[0;34m.\u001b[0m\u001b[0mmode\u001b[0m \u001b[0;34m==\u001b[0m \u001b[0;34m'r'\u001b[0m\u001b[0;34m:\u001b[0m\u001b[0;34m\u001b[0m\u001b[0;34m\u001b[0m\u001b[0m\n\u001b[1;32m    153\u001b[0m                 \u001b[0mself\u001b[0m\u001b[0;34m.\u001b[0m\u001b[0msession\u001b[0m \u001b[0;34m=\u001b[0m \u001b[0mSession\u001b[0m\u001b[0;34m(\u001b[0m\u001b[0;34m)\u001b[0m\u001b[0;34m\u001b[0m\u001b[0;34m\u001b[0m\u001b[0m\n\u001b[0;32m--> 154\u001b[0;31m                 \u001b[0mself\u001b[0m\u001b[0;34m.\u001b[0m\u001b[0msession\u001b[0m\u001b[0;34m.\u001b[0m\u001b[0mstart\u001b[0m\u001b[0;34m(\u001b[0m\u001b[0mself\u001b[0m\u001b[0;34m,\u001b[0m \u001b[0;34m**\u001b[0m\u001b[0mkwargs\u001b[0m\u001b[0;34m)\u001b[0m\u001b[0;34m\u001b[0m\u001b[0;34m\u001b[0m\u001b[0m\n\u001b[0m\u001b[1;32m    155\u001b[0m             \u001b[0;32melif\u001b[0m \u001b[0mself\u001b[0m\u001b[0;34m.\u001b[0m\u001b[0mmode\u001b[0m \u001b[0;32min\u001b[0m \u001b[0;34m(\u001b[0m\u001b[0;34m'a'\u001b[0m\u001b[0;34m,\u001b[0m \u001b[0;34m'w'\u001b[0m\u001b[0;34m)\u001b[0m\u001b[0;34m:\u001b[0m\u001b[0;34m\u001b[0m\u001b[0;34m\u001b[0m\u001b[0m\n\u001b[1;32m    156\u001b[0m                 \u001b[0mself\u001b[0m\u001b[0;34m.\u001b[0m\u001b[0msession\u001b[0m \u001b[0;34m=\u001b[0m \u001b[0mWritingSession\u001b[0m\u001b[0;34m(\u001b[0m\u001b[0;34m)\u001b[0m\u001b[0;34m\u001b[0m\u001b[0;34m\u001b[0m\u001b[0m\n",
      "\u001b[0;32mfiona/ogrext.pyx\u001b[0m in \u001b[0;36mfiona.ogrext.Session.start\u001b[0;34m()\u001b[0m\n",
      "\u001b[0;32mfiona/_shim.pyx\u001b[0m in \u001b[0;36mfiona._shim.gdal_open_vector\u001b[0;34m()\u001b[0m\n",
      "\u001b[0;31mDriverError\u001b[0m: Europe_borders.shp: No such file or directory"
     ]
    }
   ],
   "source": [
    "# Read the file \n",
    "fp = \"Europe_borders.shp\" \n",
    "data = gpd.read_file(fp) \n",
    "data.plot()\n",
    "\n",
    "# Check the coordinate reference system \n",
    "print(\"projection is:\", data.crs)\n",
    "\n",
    "data['geometry'].head()\n",
    "#the crs is a Python dictionary with a key init that has a value epsg:4326. This is a very typical way how CRS is stored in GeoDataFrames. \n"
   ]
  },
  {
   "cell_type": "markdown",
   "metadata": {
    "button": false,
    "new_sheet": false,
    "run_control": {
     "read_only": false
    }
   },
   "source": [
    "Let’s continue by checking the values in our geometry -column to verify that the CRS of our GeoDataFrame is correct:"
   ]
  },
  {
   "cell_type": "code",
   "execution_count": null,
   "metadata": {
    "button": false,
    "new_sheet": false,
    "run_control": {
     "read_only": false
    }
   },
   "outputs": [],
   "source": [
    "data['geometry'].head() "
   ]
  },
  {
   "cell_type": "markdown",
   "metadata": {
    "button": false,
    "new_sheet": false,
    "run_control": {
     "read_only": false
    }
   },
   "source": [
    "WGS84 projection is not really a good one for representing European borders, so let’s convert those geometries into Lambert Azimuthal Equal Area projection (EPSG: 3035) which is the recommended projection by European Comission.\n",
    "Let’s re-project our data into EPSG 3035 using epsg -parameter:\n",
    "\n"
   ]
  },
  {
   "cell_type": "code",
   "execution_count": null,
   "metadata": {
    "button": false,
    "new_sheet": false,
    "run_control": {
     "read_only": false
    }
   },
   "outputs": [],
   "source": [
    "# Let's make a copy of our data \n",
    "orig = data.copy() \n",
    "\n",
    "# Reproject the data \n",
    "data = data.to_crs({'init': 'epsg:3035'}) \n",
    "\n",
    "\n",
    "# Check the new geometry values \n",
    "print(data['geometry'].head())"
   ]
  },
  {
   "cell_type": "markdown",
   "metadata": {
    "button": false,
    "new_sheet": false,
    "run_control": {
     "read_only": false
    }
   },
   "source": [
    "Let’s compare the datasets by making maps out of them.\n"
   ]
  },
  {
   "cell_type": "code",
   "execution_count": null,
   "metadata": {
    "button": false,
    "new_sheet": false,
    "run_control": {
     "read_only": false
    }
   },
   "outputs": [],
   "source": [
    "%matplotlib inline \n",
    "import matplotlib.pyplot as plt \n",
    "\n",
    "# Make subplots that are next to each other \n",
    "fig, (ax1, ax2) = plt.subplots(nrows=1, ncols=2, figsize=(15, 8)) \n",
    "\n",
    "# Plot the data in WGS84 CRS \n",
    "orig.plot(ax=ax1, facecolor='gray')\n",
    "\n",
    "# Add title \n",
    "ax1.set_title(\"WGS84\")\n",
    "\n",
    "# Plot the one with ETRS-LAEA projection \n",
    "data.plot(ax=ax2, facecolor='black')\n",
    "\n",
    "# Add title \n",
    "ax2.set_title(\"ETRS Lambert Azimuthal Equal Area projection\")\n",
    "\n",
    "# Remove empty white space around the plot \n",
    "plt.tight_layout()\n"
   ]
  },
  {
   "cell_type": "markdown",
   "metadata": {
    "button": false,
    "new_sheet": false,
    "run_control": {
     "read_only": false
    }
   },
   "source": [
    "Let's export the re-projected data!"
   ]
  },
  {
   "cell_type": "code",
   "execution_count": null,
   "metadata": {
    "button": false,
    "new_sheet": false,
    "run_control": {
     "read_only": false
    }
   },
   "outputs": [],
   "source": [
    "# Ouput filepath \n",
    "outfp = \"Europe_borders_epsg3035.shp\" \n",
    "# Save to disk \n",
    "data.to_file(outfp)\n"
   ]
  },
  {
   "cell_type": "markdown",
   "metadata": {
    "button": false,
    "new_sheet": false,
    "run_control": {
     "read_only": false
    }
   },
   "source": [
    "# Calculating distances"
   ]
  },
  {
   "cell_type": "markdown",
   "metadata": {
    "button": false,
    "new_sheet": false,
    "run_control": {
     "read_only": false
    }
   },
   "source": [
    "The aim ::: to find the Euclidean distances from the centroids of all European countries to Copenhagen using a metric projection (Azimuthal Equidistant -projection) in meters. \n",
    "Let’s first create a GeoDataFrame that contains a single Point representing the location of CPH:\n"
   ]
  },
  {
   "cell_type": "code",
   "execution_count": null,
   "metadata": {
    "button": false,
    "new_sheet": false,
    "run_control": {
     "read_only": false
    }
   },
   "outputs": [],
   "source": [
    "# Import necessary modules \n",
    "from shapely.geometry import Point \n",
    "import pycrs \n",
    "# Create the point representing CPH (in WGS84) \n",
    "cph_lon = 12.5683 \n",
    "cph_lat = 55.6761 \n",
    "# Create GeoDataFrame \n",
    "copenhagen = gpd.GeoDataFrame([[Point(cph_lon, cph_lat)]], geometry='geometry', crs={'init': 'epsg:4326'}, columns=['geometry']) \n",
    "# Print \n",
    "print(copenhagen)\n"
   ]
  },
  {
   "cell_type": "code",
   "execution_count": 40,
   "metadata": {
    "button": false,
    "new_sheet": false,
    "run_control": {
     "read_only": false
    }
   },
   "outputs": [
    {
     "ename": "NameError",
     "evalue": "name 'cph_lat' is not defined",
     "output_type": "error",
     "traceback": [
      "\u001b[0;31m---------------------------------------------------------------------------\u001b[0m",
      "\u001b[0;31mNameError\u001b[0m                                 Traceback (most recent call last)",
      "\u001b[0;32m<ipython-input-40-ae00824b2f60>\u001b[0m in \u001b[0;36m<module>\u001b[0;34m\u001b[0m\n\u001b[1;32m      3\u001b[0m \u001b[0;31m# Define the projection using the coordinates of our CPH point (cph_lat, cph_lon) as the center point\u001b[0m\u001b[0;34m\u001b[0m\u001b[0;34m\u001b[0m\u001b[0;34m\u001b[0m\u001b[0m\n\u001b[1;32m      4\u001b[0m \u001b[0;31m# The .srs here returns the Proj4-string presentation of the projection\u001b[0m\u001b[0;34m\u001b[0m\u001b[0;34m\u001b[0m\u001b[0;34m\u001b[0m\u001b[0m\n\u001b[0;32m----> 5\u001b[0;31m \u001b[0maeqd\u001b[0m \u001b[0;34m=\u001b[0m \u001b[0mpyproj\u001b[0m\u001b[0;34m.\u001b[0m\u001b[0mProj\u001b[0m\u001b[0;34m(\u001b[0m\u001b[0mproj\u001b[0m\u001b[0;34m=\u001b[0m\u001b[0;34m'aeqd'\u001b[0m\u001b[0;34m,\u001b[0m \u001b[0mellps\u001b[0m\u001b[0;34m=\u001b[0m\u001b[0;34m'WGS84'\u001b[0m\u001b[0;34m,\u001b[0m \u001b[0mdatum\u001b[0m\u001b[0;34m=\u001b[0m\u001b[0;34m'WGS84'\u001b[0m\u001b[0;34m,\u001b[0m \u001b[0mlat_0\u001b[0m\u001b[0;34m=\u001b[0m\u001b[0mcph_lat\u001b[0m\u001b[0;34m,\u001b[0m \u001b[0mlon_0\u001b[0m\u001b[0;34m=\u001b[0m\u001b[0mcph_lon\u001b[0m\u001b[0;34m)\u001b[0m\u001b[0;34m.\u001b[0m\u001b[0msrs\u001b[0m\u001b[0;34m\u001b[0m\u001b[0;34m\u001b[0m\u001b[0m\n\u001b[0m\u001b[1;32m      6\u001b[0m \u001b[0;31m# Reproject to aeqd projection using Proj4-string\u001b[0m\u001b[0;34m\u001b[0m\u001b[0;34m\u001b[0m\u001b[0;34m\u001b[0m\u001b[0m\n\u001b[1;32m      7\u001b[0m \u001b[0mcopenhagen\u001b[0m \u001b[0;34m=\u001b[0m \u001b[0mcopenhagen\u001b[0m\u001b[0;34m.\u001b[0m\u001b[0mto_crs\u001b[0m\u001b[0;34m(\u001b[0m\u001b[0mcrs\u001b[0m\u001b[0;34m=\u001b[0m\u001b[0maeqd\u001b[0m\u001b[0;34m)\u001b[0m\u001b[0;34m\u001b[0m\u001b[0;34m\u001b[0m\u001b[0m\n",
      "\u001b[0;31mNameError\u001b[0m: name 'cph_lat' is not defined"
     ]
    }
   ],
   "source": [
    "# Import pyproj \n",
    "import pyproj \n",
    "# Define the projection using the coordinates of our CPH point (cph_lat, cph_lon) as the center point \n",
    "# The .srs here returns the Proj4-string presentation of the projection \n",
    "aeqd = pyproj.Proj(proj='aeqd', ellps='WGS84', datum='WGS84', lat_0=cph_lat, lon_0=cph_lon).srs \n",
    "# Reproject to aeqd projection using Proj4-string \n",
    "copenhagen = copenhagen.to_crs(crs=aeqd) \n",
    "# Print the data \n",
    "print(copenhagen) \n",
    "# Print the crs \n",
    "print(\"\\nCRS:\\n\", copenhagen.crs)\n"
   ]
  },
  {
   "cell_type": "markdown",
   "metadata": {
    "button": false,
    "new_sheet": false,
    "run_control": {
     "read_only": false
    }
   },
   "source": [
    "Next we want to transform the Europe_borders.shp data into the desired projection.\n",
    "\n",
    "Let’s create a new copy of our GeoDataFrame into a variable called europe_borders_aeqd:\n"
   ]
  },
  {
   "cell_type": "code",
   "execution_count": null,
   "metadata": {
    "button": false,
    "new_sheet": false,
    "run_control": {
     "read_only": false
    }
   },
   "outputs": [],
   "source": [
    "# Create a copy \n",
    "europe_borders_aeqd = data.copy() \n"
   ]
  },
  {
   "cell_type": "markdown",
   "metadata": {
    "button": false,
    "new_sheet": false,
    "run_control": {
     "read_only": false
    }
   },
   "source": [
    "Let’s now reproject our Europer borders data into the Azimuthal Equidistant projection that was centered into Copenhagen:\n"
   ]
  },
  {
   "cell_type": "code",
   "execution_count": null,
   "metadata": {
    "button": false,
    "new_sheet": false,
    "run_control": {
     "read_only": false
    }
   },
   "outputs": [],
   "source": [
    "# Reproject to aeqd projection that we defined earlier \n",
    "europe_borders_aeqd = europe_borders_aeqd.to_crs(crs=aeqd) \n",
    "\n",
    "# Print \n",
    "print(europe_borders_aeqd.head(2))\n"
   ]
  },
  {
   "cell_type": "markdown",
   "metadata": {
    "button": false,
    "new_sheet": false,
    "run_control": {
     "read_only": false
    }
   },
   "source": [
    "Let’s plot the Europe borders and the location of CPH to get a better understanding how our projection has worked out:\n"
   ]
  },
  {
   "cell_type": "code",
   "execution_count": null,
   "metadata": {
    "button": false,
    "new_sheet": false,
    "run_control": {
     "read_only": false
    }
   },
   "outputs": [],
   "source": [
    "%matplotlib inline \n",
    "fig, ax = plt.subplots(figsize=(10,10)) \n",
    "# Plot the country borders \n",
    "europe_borders_aeqd.plot(ax=ax) \n",
    "# Plot the Copenhagen point on top of the borders using the same axis \n",
    "copenhagen.plot(ax=ax, color='red', markersize=15)\n"
   ]
  },
  {
   "cell_type": "markdown",
   "metadata": {
    "button": false,
    "new_sheet": false,
    "run_control": {
     "read_only": false
    }
   },
   "source": [
    "Our goal is to calculate the distance from all countries to Copenhagen. So, we need to calculate the centroids for all the Polygons representing the boundaries of European countries.\n",
    "This can be done easily in Geopandas by using the centroid attribute:\n"
   ]
  },
  {
   "cell_type": "code",
   "execution_count": null,
   "metadata": {
    "button": false,
    "new_sheet": false,
    "run_control": {
     "read_only": false
    }
   },
   "outputs": [],
   "source": [
    "europe_borders_aeqd['centroid'] = europe_borders_aeqd.centroid \n",
    "print(europe_borders_aeqd.head(3))\n"
   ]
  },
  {
   "cell_type": "markdown",
   "metadata": {
    "button": false,
    "new_sheet": false,
    "run_control": {
     "read_only": false
    }
   },
   "source": [
    "First, we will create a dedicated function for calculating the distances called calculate_distance():\n"
   ]
  },
  {
   "cell_type": "code",
   "execution_count": null,
   "metadata": {
    "button": false,
    "new_sheet": false,
    "run_control": {
     "read_only": false
    }
   },
   "outputs": [],
   "source": [
    "def calculate_distance(row, dest_geom, src_col='geometry', target_col='distance'):\n",
    "    \"\"\"\n",
    "    Calculates the distance between Point geometries.\n",
    "    Parameters\n",
    "    ----------\n",
    "    dest_geom : shapely.Point\n",
    "       A single Shapely Point geometry to which the distances will be calculated to.\n",
    "    src_col : str\n",
    "       A name of the column that has the Shapely Point objects from where the distances will be calculated from.\n",
    "    target_col : str\n",
    "       A name of the target column where the result will be stored.\n",
    "    Returns\n",
    "    -------\n",
    "    Distance in kilometers that will be stored in 'target_col'.\n",
    "    \"\"\"\n",
    "    # Calculate the distances\n",
    "    dist = row[src_col].distance(dest_geom)\n",
    "\n",
    "    # Convert into kilometers\n",
    "    dist_km = dist / 1000\n",
    "\n",
    "    # Assign the distance to the original data\n",
    "    row[target_col] = dist_km\n",
    "    return row\n"
   ]
  },
  {
   "cell_type": "markdown",
   "metadata": {
    "button": false,
    "new_sheet": false,
    "run_control": {
     "read_only": false
    }
   },
   "source": [
    "Before using our function and calculating the distances between Copenhagen and centroids, we need to get the Shapely point geometry from the re-projected Copenhagen center point that we can pass to our function (into the dest_geom -parameter. We can use the loc -functionality to retrieve the value from specific index and column:\n"
   ]
  },
  {
   "cell_type": "code",
   "execution_count": null,
   "metadata": {
    "button": false,
    "new_sheet": false,
    "run_control": {
     "read_only": false
    }
   },
   "outputs": [],
   "source": [
    "# Retrieve the geometry from Copenhagen GeoDataFrame \n",
    "copenhagen_geom = copenhagen.loc[0, 'geometry'] \n",
    "\n",
    "print(copenhagen_geom)\n"
   ]
  },
  {
   "cell_type": "markdown",
   "metadata": {
    "button": false,
    "new_sheet": false,
    "run_control": {
     "read_only": false
    }
   },
   "source": [
    "When iterating over a GeoDataFrame, apply function is used like this\n",
    "GeoDataFrame.apply(name_of_your_function, param1, param2, param3,  axis=1)"
   ]
  },
  {
   "cell_type": "code",
   "execution_count": null,
   "metadata": {
    "button": false,
    "new_sheet": false,
    "run_control": {
     "read_only": false
    }
   },
   "outputs": [],
   "source": [
    "# Calculate the distances using our custom function called 'calculate_distance’ \n",
    "europe_borders_aeqd = europe_borders_aeqd.apply(calculate_distance, \n",
    "    dest_geom=copenhagen_geom, src_col='centroid', target_col='dist_to_cph', axis=1) \n",
    "\n",
    "print(europe_borders_aeqd.head(10))\n"
   ]
  },
  {
   "cell_type": "code",
   "execution_count": null,
   "metadata": {
    "button": false,
    "new_sheet": false,
    "run_control": {
     "read_only": false
    }
   },
   "outputs": [],
   "source": [
    "data.head(3)"
   ]
  },
  {
   "cell_type": "markdown",
   "metadata": {
    "button": false,
    "new_sheet": false,
    "run_control": {
     "read_only": false
    }
   },
   "source": [
    "Let’s check what is the longest and mean distance to Copenhagen from the centroids of other European countries:\n"
   ]
  },
  {
   "cell_type": "code",
   "execution_count": null,
   "metadata": {
    "button": false,
    "new_sheet": false,
    "run_control": {
     "read_only": false
    }
   },
   "outputs": [],
   "source": [
    "# Calculate the maximum and average distance \n",
    "max_dist = europe_borders_aeqd['dist_to_cph'].max() \n",
    "mean_dist = europe_borders_aeqd['dist_to_cph'].mean() \n",
    "\n",
    "print(\"Maximum distance to Copenhagen is %.0f km, and the mean distance is %.0f km.\" % (max_dist, mean_dist))\n"
   ]
  },
  {
   "cell_type": "markdown",
   "metadata": {
    "button": false,
    "new_sheet": false,
    "run_control": {
     "read_only": false
    }
   },
   "source": [
    "# Geometric operations: Overlay analysis"
   ]
  },
  {
   "cell_type": "markdown",
   "metadata": {
    "button": false,
    "new_sheet": false,
    "run_control": {
     "read_only": false
    }
   },
   "source": [
    "The aim is to make an overlay analysis where we create a new layer based on geometries from a dataset that intersect with geometries of another layer. \n",
    "Here, we are going to clip land use features from dk001l_kobenhavn.shp within a box CPH_Box.shp\n",
    "\n",
    "\n"
   ]
  },
  {
   "cell_type": "code",
   "execution_count": null,
   "metadata": {
    "button": false,
    "new_sheet": false,
    "run_control": {
     "read_only": false
    }
   },
   "outputs": [],
   "source": [
    "import geopandas as gpd\n",
    "import matplotlib.pyplot as plt\n",
    "import shapely.speedups\n",
    "%matplotlib inline\n",
    "\n",
    "# Let's enable speedups to make queries faster\n",
    "shapely.speedups.enable()\n",
    "\n",
    "# File paths\n",
    "border_fp = \"CPH_Box.shp\"\n",
    "grid_fp = \"dk001l_kobenhavn/dk001l_kobenhavn.shp\"\n",
    "\n",
    "# Read files\n",
    "grid = gpd.read_file(grid_fp)\n",
    "hel = gpd.read_file(border_fp)\n",
    "\n",
    "# Plot the layers\n",
    "ax = grid.plot(facecolor='grey')\n",
    "hel.plot(ax=ax, facecolor='None', edgecolor='red')"
   ]
  },
  {
   "cell_type": "markdown",
   "metadata": {
    "button": false,
    "new_sheet": false,
    "run_control": {
     "read_only": false
    }
   },
   "source": [
    "Here the red area is the borders that we want to use for conducting the overlay analysis and select the geometries from the Polygon grid.\n",
    "Always, when conducting GIS operations involving multiple layers, it is required to check that the CRS of the layers match:\n",
    "\n"
   ]
  },
  {
   "cell_type": "code",
   "execution_count": null,
   "metadata": {
    "button": false,
    "new_sheet": false,
    "run_control": {
     "read_only": false
    }
   },
   "outputs": [],
   "source": [
    "# Ensure that the CRS matches, if not raise an AssertionError \n",
    "assert hel.crs == grid.crs, \"CRS differs between layers!\""
   ]
  },
  {
   "cell_type": "code",
   "execution_count": null,
   "metadata": {},
   "outputs": [],
   "source": [
    "hel.crs"
   ]
  },
  {
   "cell_type": "markdown",
   "metadata": {
    "button": false,
    "new_sheet": false,
    "run_control": {
     "read_only": false
    }
   },
   "source": [
    "Let’s do an overlay analysis and create a new layer from polygons of the grid that intersect with our CPH layer. \n",
    "\n",
    "We can use a function called overlay() to conduct the overlay analysis that takes inputs like\n",
    "- the GeoDataFrame where the selection is taken, \n",
    "- the GeoDataFrame used for making the selection, and \n",
    "- parameter how that can be used to control how the overlay analysis is conducted (possible values are 'intersection', 'union', 'symmetric_difference', 'difference', and 'identity’)."
   ]
  },
  {
   "cell_type": "code",
   "execution_count": null,
   "metadata": {
    "button": false,
    "new_sheet": false,
    "run_control": {
     "read_only": false
    }
   },
   "outputs": [],
   "source": [
    "intersection = gpd.overlay(grid, hel, how='intersection')"
   ]
  },
  {
   "cell_type": "markdown",
   "metadata": {
    "button": false,
    "new_sheet": false,
    "run_control": {
     "read_only": false
    }
   },
   "source": [
    "Let’s plot it!\n"
   ]
  },
  {
   "cell_type": "code",
   "execution_count": null,
   "metadata": {
    "button": false,
    "new_sheet": false,
    "run_control": {
     "read_only": false
    }
   },
   "outputs": [],
   "source": [
    "intersection.plot(color=\"b\") "
   ]
  },
  {
   "cell_type": "markdown",
   "metadata": {
    "button": false,
    "new_sheet": false,
    "run_control": {
     "read_only": false
    }
   },
   "source": [
    "Let's check whether the attributes are also there!"
   ]
  },
  {
   "cell_type": "code",
   "execution_count": null,
   "metadata": {
    "button": false,
    "new_sheet": false,
    "run_control": {
     "read_only": false
    }
   },
   "outputs": [],
   "source": [
    "print(intersection.head()) "
   ]
  },
  {
   "cell_type": "markdown",
   "metadata": {
    "button": false,
    "new_sheet": false,
    "run_control": {
     "read_only": false
    }
   },
   "source": [
    "==>"
   ]
  },
  {
   "cell_type": "markdown",
   "metadata": {
    "button": false,
    "new_sheet": false,
    "run_control": {
     "read_only": false
    }
   },
   "source": [
    "Let’s save our result grid as a GeoJSON file that is commonly used file format nowadays for storing spatial data.\n"
   ]
  },
  {
   "cell_type": "code",
   "execution_count": null,
   "metadata": {
    "button": false,
    "new_sheet": false,
    "run_control": {
     "read_only": false
    }
   },
   "outputs": [],
   "source": [
    "# Output filepath \n",
    "outfp = \"dk001l_kobenhavn/CPH_LU_Box.geojson\" \n",
    "\n",
    "# Use ESRI Shapefile driver \n",
    "intersection.to_file(outfp, driver='GeoJSON')"
   ]
  },
  {
   "cell_type": "markdown",
   "metadata": {
    "button": false,
    "new_sheet": false,
    "run_control": {
     "read_only": false
    }
   },
   "source": [
    "It didn't work.\n",
    "\n",
    "WHY? ===> \n",
    "Because, GIS data formats almost always require a single geometry type. Shapefile doesn't really distinguish between single and multi lines and polygons (which is smart!), but GeoJSON does NOT do that.\n",
    "so, we execute this code cell to convert multipart objects to single part objects.\n",
    "\n"
   ]
  },
  {
   "cell_type": "code",
   "execution_count": null,
   "metadata": {
    "button": false,
    "new_sheet": false,
    "run_control": {
     "read_only": false
    }
   },
   "outputs": [],
   "source": [
    "import fiona\n",
    "from shapely import geometry\n",
    "upcast_dispatch = {geometry.Point: geometry.MultiPoint, \n",
    "                   geometry.LineString: geometry.MultiLineString, \n",
    "                   geometry.Polygon: geometry.MultiPolygon}\n",
    "\n",
    "def maybe_cast_to_multigeometry(geom):\n",
    "    caster = upcast_dispatch.get(type(geom), lambda x: x[0])\n",
    "    return caster([geom])\n",
    "intersection2=intersection.geometry.apply(maybe_cast_to_multigeometry)"
   ]
  },
  {
   "cell_type": "code",
   "execution_count": null,
   "metadata": {
    "button": false,
    "new_sheet": false,
    "run_control": {
     "read_only": false
    }
   },
   "outputs": [],
   "source": [
    "# Output filepath \n",
    "outfp = \"dk001l_kobenhavn/CPH_LU_Box.geojson\" \n",
    "\n",
    "# Use GeojSON  driver \n",
    "intersection2.to_file(outfp, driver='GeoJSON')"
   ]
  },
  {
   "cell_type": "code",
   "execution_count": null,
   "metadata": {
    "button": false,
    "new_sheet": false,
    "run_control": {
     "read_only": false
    }
   },
   "outputs": [],
   "source": [
    "help(intersection.to_file)"
   ]
  },
  {
   "cell_type": "code",
   "execution_count": null,
   "metadata": {},
   "outputs": [],
   "source": [
    "import fiona\n",
    "fiona.supported_drivers"
   ]
  },
  {
   "cell_type": "markdown",
   "metadata": {
    "button": false,
    "new_sheet": false,
    "run_control": {
     "read_only": false
    }
   },
   "source": [
    "Aggregation: merge Geometries together by some common identifier. Suppose we are interested in studying continents, but we only have country-level data like the country dataset. By aggregation we would convert this into a continent-level dataset.\n",
    "\n",
    "Here, we will aggregate our land use data by type (column ITEM), i.e. the grid cells that have the same land type will be dissolved.\n",
    "\n",
    "For doing the aggregation we will use a function called dissolve()."
   ]
  },
  {
   "cell_type": "code",
   "execution_count": null,
   "metadata": {
    "button": false,
    "new_sheet": false,
    "run_control": {
     "read_only": false
    }
   },
   "outputs": [],
   "source": [
    "# Conduct the aggregation \n",
    "dissolved = intersection.dissolve(by=\"ITEM\") \n",
    "# What did we get \n",
    "print(dissolved.head())"
   ]
  },
  {
   "cell_type": "markdown",
   "metadata": {
    "button": false,
    "new_sheet": false,
    "run_control": {
     "read_only": false
    }
   },
   "source": [
    "Let’s compare the number of cells in the layers before and after the aggregation:\n"
   ]
  },
  {
   "cell_type": "code",
   "execution_count": null,
   "metadata": {
    "button": false,
    "new_sheet": false,
    "run_control": {
     "read_only": false
    }
   },
   "outputs": [],
   "source": [
    "print('Rows in original intersection GeoDataFrame:', len(intersection))\n",
    "print('Rows in dissolved layer:', len(dissolved))\n"
   ]
  },
  {
   "cell_type": "markdown",
   "metadata": {
    "button": false,
    "new_sheet": false,
    "run_control": {
     "read_only": false
    }
   },
   "source": [
    "What happend? ===>"
   ]
  },
  {
   "cell_type": "code",
   "execution_count": null,
   "metadata": {
    "button": false,
    "new_sheet": false,
    "run_control": {
     "read_only": false
    }
   },
   "outputs": [],
   "source": [
    "print(dissolved.columns) "
   ]
  },
  {
   "cell_type": "markdown",
   "metadata": {
    "button": false,
    "new_sheet": false,
    "run_control": {
     "read_only": false
    }
   },
   "source": [
    "As we can see, the column that we used for conducting the aggregation (ITEM) can not be found from the columns list anymore. What happened to it?\n",
    "\n",
    "It is now used as index in our dissolved GeoDataFrame.\n"
   ]
  },
  {
   "cell_type": "code",
   "execution_count": null,
   "metadata": {
    "button": false,
    "new_sheet": false,
    "run_control": {
     "read_only": false
    }
   },
   "outputs": [],
   "source": [
    "print(dissolved.index) "
   ]
  },
  {
   "cell_type": "markdown",
   "metadata": {
    "button": false,
    "new_sheet": false,
    "run_control": {
     "read_only": false
    }
   },
   "source": [
    "Now, we can f.x. select only such geometries from the layer that are namely ”Green urban areas” :\n"
   ]
  },
  {
   "cell_type": "code",
   "execution_count": null,
   "metadata": {
    "button": false,
    "new_sheet": false,
    "run_control": {
     "read_only": false
    }
   },
   "outputs": [],
   "source": [
    "# Select only geometries that are Green urban areas\n",
    "sel_green = dissolved.iloc[15] \n",
    "# See the data type \n",
    "print(type(sel_green)) \n",
    "# See the data \n",
    "print(sel_green.head())\n"
   ]
  },
  {
   "cell_type": "markdown",
   "metadata": {
    "button": false,
    "new_sheet": false,
    "run_control": {
     "read_only": false
    }
   },
   "source": [
    "Now, we have a Pandas Series object containing basically one row from our original aggregated GeoDataFrame. Let’s convert the Series into GeoDataFrame and plot it to see where those green areas are located:\n"
   ]
  },
  {
   "cell_type": "code",
   "execution_count": null,
   "metadata": {
    "button": false,
    "new_sheet": false,
    "run_control": {
     "read_only": false
    }
   },
   "outputs": [],
   "source": [
    "# Create a GeoDataFrame \n",
    "geo = gpd.GeoDataFrame([sel_green.values], crs=dissolved.crs, columns=dissolved.columns) \n",
    "\n",
    "# Plot the grid cells that are green\n",
    "ax = dissolved.plot(facecolor='grey') \n",
    "geo.plot(ax=ax, facecolor='green')\n"
   ]
  },
  {
   "cell_type": "markdown",
   "metadata": {
    "button": false,
    "new_sheet": false,
    "run_control": {
     "read_only": false
    }
   },
   "source": [
    "# Geometric operations: Simplifying geometries"
   ]
  },
  {
   "cell_type": "markdown",
   "metadata": {
    "button": false,
    "new_sheet": false,
    "run_control": {
     "read_only": false
    }
   },
   "source": [
    "- Simplify geometries?!\n",
    "\n",
    "- F.x. if you have very detailed spatial features that cover a large region, sometimes it is unnecessary to have very detailed geometries because it is impossible to see those small details from your map.\n",
    "\n",
    "- Moreover, it is time-consuming to render it into a map. Here, we will see how to simplify geometric features in Python.\n"
   ]
  },
  {
   "cell_type": "markdown",
   "metadata": {
    "button": false,
    "new_sheet": false,
    "run_control": {
     "read_only": false
    }
   },
   "source": [
    "Use case: Amazon river in South America\n",
    "Task: simplify its geometries. \n",
    "Let’s first read the data and see how the river looks like:\n"
   ]
  },
  {
   "cell_type": "code",
   "execution_count": 42,
   "metadata": {
    "button": false,
    "new_sheet": false,
    "run_control": {
     "read_only": false
    },
    "scrolled": true
   },
   "outputs": [
    {
     "ename": "DriverError",
     "evalue": "L4_data/Amazon_river.shp: No such file or directory",
     "output_type": "error",
     "traceback": [
      "\u001b[0;31m---------------------------------------------------------------------------\u001b[0m",
      "\u001b[0;31mCPLE_OpenFailedError\u001b[0m                      Traceback (most recent call last)",
      "\u001b[0;32mfiona/_shim.pyx\u001b[0m in \u001b[0;36mfiona._shim.gdal_open_vector\u001b[0;34m()\u001b[0m\n",
      "\u001b[0;32mfiona/_err.pyx\u001b[0m in \u001b[0;36mfiona._err.exc_wrap_pointer\u001b[0;34m()\u001b[0m\n",
      "\u001b[0;31mCPLE_OpenFailedError\u001b[0m: L4_data/Amazon_river.shp: No such file or directory",
      "\nDuring handling of the above exception, another exception occurred:\n",
      "\u001b[0;31mDriverError\u001b[0m                               Traceback (most recent call last)",
      "\u001b[0;32m<ipython-input-42-4aa2a11203bc>\u001b[0m in \u001b[0;36m<module>\u001b[0;34m\u001b[0m\n\u001b[1;32m      3\u001b[0m \u001b[0;31m# File path\u001b[0m\u001b[0;34m\u001b[0m\u001b[0;34m\u001b[0m\u001b[0;34m\u001b[0m\u001b[0m\n\u001b[1;32m      4\u001b[0m \u001b[0mfp\u001b[0m \u001b[0;34m=\u001b[0m \u001b[0;34m\"L4_data/Amazon_river.shp\"\u001b[0m\u001b[0;34m\u001b[0m\u001b[0;34m\u001b[0m\u001b[0m\n\u001b[0;32m----> 5\u001b[0;31m \u001b[0mdata\u001b[0m \u001b[0;34m=\u001b[0m \u001b[0mgpd\u001b[0m\u001b[0;34m.\u001b[0m\u001b[0mread_file\u001b[0m\u001b[0;34m(\u001b[0m\u001b[0mfp\u001b[0m\u001b[0;34m)\u001b[0m\u001b[0;34m\u001b[0m\u001b[0;34m\u001b[0m\u001b[0m\n\u001b[0m\u001b[1;32m      6\u001b[0m \u001b[0;31m# Print crs\u001b[0m\u001b[0;34m\u001b[0m\u001b[0;34m\u001b[0m\u001b[0;34m\u001b[0m\u001b[0m\n\u001b[1;32m      7\u001b[0m \u001b[0mprint\u001b[0m\u001b[0;34m(\u001b[0m\u001b[0;34m\"The CRS is \"\u001b[0m\u001b[0;34m,\u001b[0m \u001b[0mdata\u001b[0m\u001b[0;34m.\u001b[0m\u001b[0mcrs\u001b[0m\u001b[0;34m)\u001b[0m\u001b[0;34m\u001b[0m\u001b[0;34m\u001b[0m\u001b[0m\n",
      "\u001b[0;32m~/miniconda3/envs/geoanalysis/lib/python3.7/site-packages/geopandas/io/file.py\u001b[0m in \u001b[0;36mread_file\u001b[0;34m(filename, bbox, mask, rows, **kwargs)\u001b[0m\n\u001b[1;32m     87\u001b[0m \u001b[0;34m\u001b[0m\u001b[0m\n\u001b[1;32m     88\u001b[0m     \u001b[0;32mwith\u001b[0m \u001b[0mfiona_env\u001b[0m\u001b[0;34m(\u001b[0m\u001b[0;34m)\u001b[0m\u001b[0;34m:\u001b[0m\u001b[0;34m\u001b[0m\u001b[0;34m\u001b[0m\u001b[0m\n\u001b[0;32m---> 89\u001b[0;31m         \u001b[0;32mwith\u001b[0m \u001b[0mreader\u001b[0m\u001b[0;34m(\u001b[0m\u001b[0mpath_or_bytes\u001b[0m\u001b[0;34m,\u001b[0m \u001b[0;34m**\u001b[0m\u001b[0mkwargs\u001b[0m\u001b[0;34m)\u001b[0m \u001b[0;32mas\u001b[0m \u001b[0mfeatures\u001b[0m\u001b[0;34m:\u001b[0m\u001b[0;34m\u001b[0m\u001b[0;34m\u001b[0m\u001b[0m\n\u001b[0m\u001b[1;32m     90\u001b[0m \u001b[0;34m\u001b[0m\u001b[0m\n\u001b[1;32m     91\u001b[0m             \u001b[0;31m# In a future Fiona release the crs attribute of features will\u001b[0m\u001b[0;34m\u001b[0m\u001b[0;34m\u001b[0m\u001b[0;34m\u001b[0m\u001b[0m\n",
      "\u001b[0;32m~/miniconda3/envs/geoanalysis/lib/python3.7/site-packages/fiona/env.py\u001b[0m in \u001b[0;36mwrapper\u001b[0;34m(*args, **kwargs)\u001b[0m\n\u001b[1;32m    396\u001b[0m     \u001b[0;32mdef\u001b[0m \u001b[0mwrapper\u001b[0m\u001b[0;34m(\u001b[0m\u001b[0;34m*\u001b[0m\u001b[0margs\u001b[0m\u001b[0;34m,\u001b[0m \u001b[0;34m**\u001b[0m\u001b[0mkwargs\u001b[0m\u001b[0;34m)\u001b[0m\u001b[0;34m:\u001b[0m\u001b[0;34m\u001b[0m\u001b[0;34m\u001b[0m\u001b[0m\n\u001b[1;32m    397\u001b[0m         \u001b[0;32mif\u001b[0m \u001b[0mlocal\u001b[0m\u001b[0;34m.\u001b[0m\u001b[0m_env\u001b[0m\u001b[0;34m:\u001b[0m\u001b[0;34m\u001b[0m\u001b[0;34m\u001b[0m\u001b[0m\n\u001b[0;32m--> 398\u001b[0;31m             \u001b[0;32mreturn\u001b[0m \u001b[0mf\u001b[0m\u001b[0;34m(\u001b[0m\u001b[0;34m*\u001b[0m\u001b[0margs\u001b[0m\u001b[0;34m,\u001b[0m \u001b[0;34m**\u001b[0m\u001b[0mkwargs\u001b[0m\u001b[0;34m)\u001b[0m\u001b[0;34m\u001b[0m\u001b[0;34m\u001b[0m\u001b[0m\n\u001b[0m\u001b[1;32m    399\u001b[0m         \u001b[0;32melse\u001b[0m\u001b[0;34m:\u001b[0m\u001b[0;34m\u001b[0m\u001b[0;34m\u001b[0m\u001b[0m\n\u001b[1;32m    400\u001b[0m             \u001b[0;32mif\u001b[0m \u001b[0misinstance\u001b[0m\u001b[0;34m(\u001b[0m\u001b[0margs\u001b[0m\u001b[0;34m[\u001b[0m\u001b[0;36m0\u001b[0m\u001b[0;34m]\u001b[0m\u001b[0;34m,\u001b[0m \u001b[0mstr\u001b[0m\u001b[0;34m)\u001b[0m\u001b[0;34m:\u001b[0m\u001b[0;34m\u001b[0m\u001b[0;34m\u001b[0m\u001b[0m\n",
      "\u001b[0;32m~/miniconda3/envs/geoanalysis/lib/python3.7/site-packages/fiona/__init__.py\u001b[0m in \u001b[0;36mopen\u001b[0;34m(fp, mode, driver, schema, crs, encoding, layer, vfs, enabled_drivers, crs_wkt, **kwargs)\u001b[0m\n\u001b[1;32m    252\u001b[0m         \u001b[0;32mif\u001b[0m \u001b[0mmode\u001b[0m \u001b[0;32min\u001b[0m \u001b[0;34m(\u001b[0m\u001b[0;34m'a'\u001b[0m\u001b[0;34m,\u001b[0m \u001b[0;34m'r'\u001b[0m\u001b[0;34m)\u001b[0m\u001b[0;34m:\u001b[0m\u001b[0;34m\u001b[0m\u001b[0;34m\u001b[0m\u001b[0m\n\u001b[1;32m    253\u001b[0m             c = Collection(path, mode, driver=driver, encoding=encoding,\n\u001b[0;32m--> 254\u001b[0;31m                            layer=layer, enabled_drivers=enabled_drivers, **kwargs)\n\u001b[0m\u001b[1;32m    255\u001b[0m         \u001b[0;32melif\u001b[0m \u001b[0mmode\u001b[0m \u001b[0;34m==\u001b[0m \u001b[0;34m'w'\u001b[0m\u001b[0;34m:\u001b[0m\u001b[0;34m\u001b[0m\u001b[0;34m\u001b[0m\u001b[0m\n\u001b[1;32m    256\u001b[0m             \u001b[0;32mif\u001b[0m \u001b[0mschema\u001b[0m\u001b[0;34m:\u001b[0m\u001b[0;34m\u001b[0m\u001b[0;34m\u001b[0m\u001b[0m\n",
      "\u001b[0;32m~/miniconda3/envs/geoanalysis/lib/python3.7/site-packages/fiona/collection.py\u001b[0m in \u001b[0;36m__init__\u001b[0;34m(self, path, mode, driver, schema, crs, encoding, layer, vsi, archive, enabled_drivers, crs_wkt, ignore_fields, ignore_geometry, **kwargs)\u001b[0m\n\u001b[1;32m    152\u001b[0m             \u001b[0;32mif\u001b[0m \u001b[0mself\u001b[0m\u001b[0;34m.\u001b[0m\u001b[0mmode\u001b[0m \u001b[0;34m==\u001b[0m \u001b[0;34m'r'\u001b[0m\u001b[0;34m:\u001b[0m\u001b[0;34m\u001b[0m\u001b[0;34m\u001b[0m\u001b[0m\n\u001b[1;32m    153\u001b[0m                 \u001b[0mself\u001b[0m\u001b[0;34m.\u001b[0m\u001b[0msession\u001b[0m \u001b[0;34m=\u001b[0m \u001b[0mSession\u001b[0m\u001b[0;34m(\u001b[0m\u001b[0;34m)\u001b[0m\u001b[0;34m\u001b[0m\u001b[0;34m\u001b[0m\u001b[0m\n\u001b[0;32m--> 154\u001b[0;31m                 \u001b[0mself\u001b[0m\u001b[0;34m.\u001b[0m\u001b[0msession\u001b[0m\u001b[0;34m.\u001b[0m\u001b[0mstart\u001b[0m\u001b[0;34m(\u001b[0m\u001b[0mself\u001b[0m\u001b[0;34m,\u001b[0m \u001b[0;34m**\u001b[0m\u001b[0mkwargs\u001b[0m\u001b[0;34m)\u001b[0m\u001b[0;34m\u001b[0m\u001b[0;34m\u001b[0m\u001b[0m\n\u001b[0m\u001b[1;32m    155\u001b[0m             \u001b[0;32melif\u001b[0m \u001b[0mself\u001b[0m\u001b[0;34m.\u001b[0m\u001b[0mmode\u001b[0m \u001b[0;32min\u001b[0m \u001b[0;34m(\u001b[0m\u001b[0;34m'a'\u001b[0m\u001b[0;34m,\u001b[0m \u001b[0;34m'w'\u001b[0m\u001b[0;34m)\u001b[0m\u001b[0;34m:\u001b[0m\u001b[0;34m\u001b[0m\u001b[0;34m\u001b[0m\u001b[0m\n\u001b[1;32m    156\u001b[0m                 \u001b[0mself\u001b[0m\u001b[0;34m.\u001b[0m\u001b[0msession\u001b[0m \u001b[0;34m=\u001b[0m \u001b[0mWritingSession\u001b[0m\u001b[0;34m(\u001b[0m\u001b[0;34m)\u001b[0m\u001b[0;34m\u001b[0m\u001b[0;34m\u001b[0m\u001b[0m\n",
      "\u001b[0;32mfiona/ogrext.pyx\u001b[0m in \u001b[0;36mfiona.ogrext.Session.start\u001b[0;34m()\u001b[0m\n",
      "\u001b[0;32mfiona/_shim.pyx\u001b[0m in \u001b[0;36mfiona._shim.gdal_open_vector\u001b[0;34m()\u001b[0m\n",
      "\u001b[0;31mDriverError\u001b[0m: L4_data/Amazon_river.shp: No such file or directory"
     ]
    }
   ],
   "source": [
    "import geopandas as gpd \n",
    "import pycrs \n",
    "# File path \n",
    "fp = \"L4_data/Amazon_river.shp\" \n",
    "data = gpd.read_file(fp) \n",
    "# Print crs \n",
    "print(\"The CRS is \", data.crs) \n",
    "# Plot the river \n",
    "data.plot();\n"
   ]
  },
  {
   "cell_type": "markdown",
   "metadata": {
    "button": false,
    "new_sheet": false,
    "run_control": {
     "read_only": false
    }
   },
   "source": [
    "We are going to use a Shapely function called .simplify().\n",
    "\n",
    "The tolerance parameter can be used to adjust how much geometries should be generalized. \n",
    "The tolerance value is tied to the coordinate system of the geometries. Hence, the value we pass here is 25,000 meters."
   ]
  },
  {
   "cell_type": "code",
   "execution_count": 43,
   "metadata": {
    "button": false,
    "new_sheet": false,
    "run_control": {
     "read_only": false
    },
    "scrolled": true
   },
   "outputs": [
    {
     "data": {
      "text/plain": [
       "<matplotlib.axes._subplots.AxesSubplot at 0x123aecd10>"
      ]
     },
     "execution_count": 43,
     "metadata": {},
     "output_type": "execute_result"
    },
    {
     "data": {
      "image/png": "[encoded data removed]",
      "text/plain": [
       "<Figure size 432x288 with 1 Axes>"
      ]
     },
     "metadata": {
      "needs_background": "light"
     },
     "output_type": "display_data"
    }
   ],
   "source": [
    "# Generalize geometry \n",
    "data['geom_gen'] = data.simplify(tolerance=25000) \n",
    "# Set geometry to be our new simlified geometry \n",
    "data = data.set_geometry('geom_gen') \n",
    "\n",
    "# Plot \n",
    "data.plot()\n"
   ]
  },
  {
   "cell_type": "code",
   "execution_count": null,
   "metadata": {
    "button": false,
    "new_sheet": false,
    "run_control": {
     "read_only": false
    }
   },
   "outputs": [],
   "source": []
  }
 ],
 "metadata": {
  "kernelspec": {
   "display_name": "Python 3",
   "language": "python",
   "name": "python3"
  },
  "language_info": {
   "codemirror_mode": {
    "name": "ipython",
    "version": 3
   },
   "file_extension": ".py",
   "mimetype": "text/x-python",
   "name": "python",
   "nbconvert_exporter": "python",
   "pygments_lexer": "ipython3",
   "version": "3.7.6"
  }
 },
 "nbformat": 4,
 "nbformat_minor": 2
}
